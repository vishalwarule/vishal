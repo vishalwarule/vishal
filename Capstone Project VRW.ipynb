{
 "cells": [
  {
   "cell_type": "markdown",
   "metadata": {},
   "source": [
    "# CAPSTONE PROJECT\n",
    "\n",
    "## Problem Statement\n",
    "To identify how salary is varying with respect to other considerable factors.\n",
    "\n",
    "## Feature Description\n",
    "\n",
    "1.Gender - talks of the gender - Male or female\n",
    "<br>2.Business - if the person has a business or no\n",
    "<br>3.Age - age of the person\n",
    "<br>4.Salary - CTC of the employee\n",
    "<br>5.Dependants - number of people dependant on the person\n",
    "<br>6.Months - duration of the person employed with the company\n",
    "<br>7.Calls - if the person has authority to make calls or not\n",
    "<br>8.Type - salary settlement type\n",
    "<br>9.Billing - Subscribed to billing plans or no\n",
    "<br>10.Unit sales - unit sale made by the person\n",
    "<br>11.Total sales - total sales made by the person\n",
    "<br>12.Rating - If he has been given a rating by a superior or no\n",
    "<br>13.Bonus - amount received by a person as bonus for sales\n",
    "<br>14.Base pay - Base pay of the employee\n",
    "<br>15.Unit price - The Unit price of a sale\n",
    "<br>16.Volume - volume allotted to a person\n",
    "<br>17.Opening balance - The opening balance of an employee\n",
    "<br>18.Low - lowest balance allotted to a person.\n",
    "<br>19.Closing Balance- The closing balance of an employee\n",
    "<br>20.Education- Educational background of an employee"
   ]
  },
  {
   "cell_type": "markdown",
   "metadata": {},
   "source": [
    "## 1. Loading and Cleaning the data"
   ]
  },
  {
   "cell_type": "code",
   "execution_count": 1,
   "metadata": {},
   "outputs": [],
   "source": [
    "#importing necessary libraries\n",
    "\n",
    "import numpy as np\n",
    "import pandas as pd\n",
    "import matplotlib.pyplot as plt\n",
    "%matplotlib inline\n",
    "import seaborn as sns"
   ]
  },
  {
   "cell_type": "code",
   "execution_count": 2,
   "metadata": {},
   "outputs": [],
   "source": [
    "#Loading the dataset\n",
    "\n",
    "df= pd.read_csv(\"C:/Users/User/Desktop/Python Assignment/Datasets/New_data_Set.csv\")\n"
   ]
  },
  {
   "cell_type": "code",
   "execution_count": 3,
   "metadata": {},
   "outputs": [
    {
     "data": {
      "text/plain": [
       "(5000, 20)"
      ]
     },
     "execution_count": 3,
     "metadata": {},
     "output_type": "execute_result"
    }
   ],
   "source": [
    "#checking the number of rows and columns\n",
    "\n",
    "df.shape"
   ]
  },
  {
   "cell_type": "code",
   "execution_count": 5,
   "metadata": {},
   "outputs": [
    {
     "data": {
      "text/html": [
       "<div>\n",
       "<style scoped>\n",
       "    .dataframe tbody tr th:only-of-type {\n",
       "        vertical-align: middle;\n",
       "    }\n",
       "\n",
       "    .dataframe tbody tr th {\n",
       "        vertical-align: top;\n",
       "    }\n",
       "\n",
       "    .dataframe thead th {\n",
       "        text-align: right;\n",
       "    }\n",
       "</style>\n",
       "<table border=\"1\" class=\"dataframe\">\n",
       "  <thead>\n",
       "    <tr style=\"text-align: right;\">\n",
       "      <th></th>\n",
       "      <th>Gender</th>\n",
       "      <th>Business</th>\n",
       "      <th>Dependancies</th>\n",
       "      <th>Calls</th>\n",
       "      <th>Type</th>\n",
       "      <th>Billing</th>\n",
       "      <th>Rating</th>\n",
       "      <th>Age</th>\n",
       "      <th>Salary</th>\n",
       "      <th>Base_pay</th>\n",
       "      <th>Bonus</th>\n",
       "      <th>Unit_Price</th>\n",
       "      <th>Volume</th>\n",
       "      <th>openingbalance</th>\n",
       "      <th>closingbalance</th>\n",
       "      <th>low</th>\n",
       "      <th>Unit_Sales</th>\n",
       "      <th>Total_Sales</th>\n",
       "      <th>Months</th>\n",
       "      <th>Education</th>\n",
       "    </tr>\n",
       "  </thead>\n",
       "  <tbody>\n",
       "    <tr>\n",
       "      <th>0</th>\n",
       "      <td>Female</td>\n",
       "      <td>0</td>\n",
       "      <td>No</td>\n",
       "      <td>Yes</td>\n",
       "      <td>Month-to-month</td>\n",
       "      <td>No</td>\n",
       "      <td>Yes</td>\n",
       "      <td>18</td>\n",
       "      <td>5089.00</td>\n",
       "      <td>2035.600</td>\n",
       "      <td>254.4500</td>\n",
       "      <td>3.77</td>\n",
       "      <td>21226600</td>\n",
       "      <td>3.75</td>\n",
       "      <td>3.76</td>\n",
       "      <td>3.65</td>\n",
       "      <td>18.25</td>\n",
       "      <td>18.8</td>\n",
       "      <td>0</td>\n",
       "      <td>High School or less</td>\n",
       "    </tr>\n",
       "    <tr>\n",
       "      <th>1</th>\n",
       "      <td>Female</td>\n",
       "      <td>0</td>\n",
       "      <td>No</td>\n",
       "      <td>Yes</td>\n",
       "      <td>Month-to-month</td>\n",
       "      <td>No</td>\n",
       "      <td>Yes</td>\n",
       "      <td>19</td>\n",
       "      <td>5698.12</td>\n",
       "      <td>2279.248</td>\n",
       "      <td>284.9060</td>\n",
       "      <td>3.74</td>\n",
       "      <td>10462800</td>\n",
       "      <td>3.85</td>\n",
       "      <td>3.68</td>\n",
       "      <td>3.65</td>\n",
       "      <td>18.40</td>\n",
       "      <td>18.85</td>\n",
       "      <td>0</td>\n",
       "      <td>High School or less</td>\n",
       "    </tr>\n",
       "    <tr>\n",
       "      <th>2</th>\n",
       "      <td>Male</td>\n",
       "      <td>0</td>\n",
       "      <td>No</td>\n",
       "      <td>Yes</td>\n",
       "      <td>Month-to-month</td>\n",
       "      <td>Yes</td>\n",
       "      <td>No</td>\n",
       "      <td>22</td>\n",
       "      <td>5896.65</td>\n",
       "      <td>2358.660</td>\n",
       "      <td>294.8325</td>\n",
       "      <td>3.89</td>\n",
       "      <td>18761000</td>\n",
       "      <td>4.23</td>\n",
       "      <td>4.29</td>\n",
       "      <td>3.72</td>\n",
       "      <td>18.70</td>\n",
       "      <td>18.9</td>\n",
       "      <td>0</td>\n",
       "      <td>High School or less</td>\n",
       "    </tr>\n",
       "    <tr>\n",
       "      <th>3</th>\n",
       "      <td>Female</td>\n",
       "      <td>1</td>\n",
       "      <td>No</td>\n",
       "      <td>Yes</td>\n",
       "      <td>Month-to-month</td>\n",
       "      <td>Yes</td>\n",
       "      <td>Yes</td>\n",
       "      <td>21</td>\n",
       "      <td>6125.12</td>\n",
       "      <td>2450.048</td>\n",
       "      <td>306.2560</td>\n",
       "      <td>4.35</td>\n",
       "      <td>66130600</td>\n",
       "      <td>4.26</td>\n",
       "      <td>4.31</td>\n",
       "      <td>3.83</td>\n",
       "      <td>18.75</td>\n",
       "      <td>19</td>\n",
       "      <td>0</td>\n",
       "      <td>High School or less</td>\n",
       "    </tr>\n",
       "    <tr>\n",
       "      <th>4</th>\n",
       "      <td>Male</td>\n",
       "      <td>0</td>\n",
       "      <td>No</td>\n",
       "      <td>Yes</td>\n",
       "      <td>Month-to-month</td>\n",
       "      <td>Yes</td>\n",
       "      <td>Yes</td>\n",
       "      <td>23</td>\n",
       "      <td>6245.00</td>\n",
       "      <td>2498.000</td>\n",
       "      <td>312.2500</td>\n",
       "      <td>4.34</td>\n",
       "      <td>26868200</td>\n",
       "      <td>4.79</td>\n",
       "      <td>4.41</td>\n",
       "      <td>4.08</td>\n",
       "      <td>18.80</td>\n",
       "      <td>19.05</td>\n",
       "      <td>1</td>\n",
       "      <td>High School or less</td>\n",
       "    </tr>\n",
       "  </tbody>\n",
       "</table>\n",
       "</div>"
      ],
      "text/plain": [
       "   Gender  Business Dependancies Calls            Type Billing Rating  Age  \\\n",
       "0  Female         0           No   Yes  Month-to-month      No    Yes   18   \n",
       "1  Female         0           No   Yes  Month-to-month      No    Yes   19   \n",
       "2    Male         0           No   Yes  Month-to-month     Yes     No   22   \n",
       "3  Female         1           No   Yes  Month-to-month     Yes    Yes   21   \n",
       "4    Male         0           No   Yes  Month-to-month     Yes    Yes   23   \n",
       "\n",
       "    Salary  Base_pay     Bonus  Unit_Price    Volume  openingbalance  \\\n",
       "0  5089.00  2035.600  254.4500        3.77  21226600            3.75   \n",
       "1  5698.12  2279.248  284.9060        3.74  10462800            3.85   \n",
       "2  5896.65  2358.660  294.8325        3.89  18761000            4.23   \n",
       "3  6125.12  2450.048  306.2560        4.35  66130600            4.26   \n",
       "4  6245.00  2498.000  312.2500        4.34  26868200            4.79   \n",
       "\n",
       "   closingbalance   low  Unit_Sales Total_Sales  Months            Education  \n",
       "0            3.76  3.65       18.25        18.8       0  High School or less  \n",
       "1            3.68  3.65       18.40       18.85       0  High School or less  \n",
       "2            4.29  3.72       18.70        18.9       0  High School or less  \n",
       "3            4.31  3.83       18.75          19       0  High School or less  \n",
       "4            4.41  4.08       18.80       19.05       1  High School or less  "
      ]
     },
     "execution_count": 5,
     "metadata": {},
     "output_type": "execute_result"
    }
   ],
   "source": [
    "df.head() #checking the first five rows"
   ]
  },
  {
   "cell_type": "code",
   "execution_count": 6,
   "metadata": {
    "scrolled": false
   },
   "outputs": [
    {
     "data": {
      "text/html": [
       "<div>\n",
       "<style scoped>\n",
       "    .dataframe tbody tr th:only-of-type {\n",
       "        vertical-align: middle;\n",
       "    }\n",
       "\n",
       "    .dataframe tbody tr th {\n",
       "        vertical-align: top;\n",
       "    }\n",
       "\n",
       "    .dataframe thead th {\n",
       "        text-align: right;\n",
       "    }\n",
       "</style>\n",
       "<table border=\"1\" class=\"dataframe\">\n",
       "  <thead>\n",
       "    <tr style=\"text-align: right;\">\n",
       "      <th></th>\n",
       "      <th>Gender</th>\n",
       "      <th>Business</th>\n",
       "      <th>Dependancies</th>\n",
       "      <th>Calls</th>\n",
       "      <th>Type</th>\n",
       "      <th>Billing</th>\n",
       "      <th>Rating</th>\n",
       "      <th>Age</th>\n",
       "      <th>Salary</th>\n",
       "      <th>Base_pay</th>\n",
       "      <th>Bonus</th>\n",
       "      <th>Unit_Price</th>\n",
       "      <th>Volume</th>\n",
       "      <th>openingbalance</th>\n",
       "      <th>closingbalance</th>\n",
       "      <th>low</th>\n",
       "      <th>Unit_Sales</th>\n",
       "      <th>Total_Sales</th>\n",
       "      <th>Months</th>\n",
       "      <th>Education</th>\n",
       "    </tr>\n",
       "  </thead>\n",
       "  <tbody>\n",
       "    <tr>\n",
       "      <th>4995</th>\n",
       "      <td>Female</td>\n",
       "      <td>0</td>\n",
       "      <td>No</td>\n",
       "      <td>Yes</td>\n",
       "      <td>Month-to-month</td>\n",
       "      <td>No</td>\n",
       "      <td>No</td>\n",
       "      <td>72</td>\n",
       "      <td>180696.80</td>\n",
       "      <td>72278.720</td>\n",
       "      <td>9034.840</td>\n",
       "      <td>629.511067</td>\n",
       "      <td>3927000</td>\n",
       "      <td>NaN</td>\n",
       "      <td>293.838840</td>\n",
       "      <td>310.955001</td>\n",
       "      <td>117.80</td>\n",
       "      <td></td>\n",
       "      <td>72</td>\n",
       "      <td>PG</td>\n",
       "    </tr>\n",
       "    <tr>\n",
       "      <th>4996</th>\n",
       "      <td>Male</td>\n",
       "      <td>0</td>\n",
       "      <td>No</td>\n",
       "      <td>Yes</td>\n",
       "      <td>Month-to-month</td>\n",
       "      <td>Yes</td>\n",
       "      <td>No</td>\n",
       "      <td>73</td>\n",
       "      <td>185685.90</td>\n",
       "      <td>74274.360</td>\n",
       "      <td>9284.295</td>\n",
       "      <td>627.841071</td>\n",
       "      <td>6031900</td>\n",
       "      <td>NaN</td>\n",
       "      <td>301.311314</td>\n",
       "      <td>309.610028</td>\n",
       "      <td>118.60</td>\n",
       "      <td></td>\n",
       "      <td>72</td>\n",
       "      <td>PG</td>\n",
       "    </tr>\n",
       "    <tr>\n",
       "      <th>4997</th>\n",
       "      <td>Male</td>\n",
       "      <td>0</td>\n",
       "      <td>No</td>\n",
       "      <td>Yes</td>\n",
       "      <td>Month-to-month</td>\n",
       "      <td>Yes</td>\n",
       "      <td>No</td>\n",
       "      <td>74</td>\n",
       "      <td>192636.80</td>\n",
       "      <td>77054.720</td>\n",
       "      <td>9631.840</td>\n",
       "      <td>625.860033</td>\n",
       "      <td>7949400</td>\n",
       "      <td>NaN</td>\n",
       "      <td>306.040009</td>\n",
       "      <td>303.483494</td>\n",
       "      <td>118.60</td>\n",
       "      <td></td>\n",
       "      <td>72</td>\n",
       "      <td>PG</td>\n",
       "    </tr>\n",
       "    <tr>\n",
       "      <th>4998</th>\n",
       "      <td>Male</td>\n",
       "      <td>1</td>\n",
       "      <td>No</td>\n",
       "      <td>Yes</td>\n",
       "      <td>Month-to-month</td>\n",
       "      <td>Yes</td>\n",
       "      <td>Yes</td>\n",
       "      <td>74</td>\n",
       "      <td>195970.70</td>\n",
       "      <td>78388.280</td>\n",
       "      <td>9798.535</td>\n",
       "      <td>629.510005</td>\n",
       "      <td>3908400</td>\n",
       "      <td>NaN</td>\n",
       "      <td>308.579987</td>\n",
       "      <td>312.432438</td>\n",
       "      <td>118.65</td>\n",
       "      <td></td>\n",
       "      <td>72</td>\n",
       "      <td>PG</td>\n",
       "    </tr>\n",
       "    <tr>\n",
       "      <th>4999</th>\n",
       "      <td>Male</td>\n",
       "      <td>0</td>\n",
       "      <td>Yes</td>\n",
       "      <td>Yes</td>\n",
       "      <td>Two year</td>\n",
       "      <td>Yes</td>\n",
       "      <td>No</td>\n",
       "      <td>88</td>\n",
       "      <td>199970.74</td>\n",
       "      <td>79988.296</td>\n",
       "      <td>9998.537</td>\n",
       "      <td>627.839984</td>\n",
       "      <td>6003300</td>\n",
       "      <td>NaN</td>\n",
       "      <td>312.307316</td>\n",
       "      <td>311.081089</td>\n",
       "      <td>118.75</td>\n",
       "      <td></td>\n",
       "      <td>72</td>\n",
       "      <td>PG</td>\n",
       "    </tr>\n",
       "  </tbody>\n",
       "</table>\n",
       "</div>"
      ],
      "text/plain": [
       "      Gender  Business Dependancies Calls            Type Billing Rating  Age  \\\n",
       "4995  Female         0           No   Yes  Month-to-month      No     No   72   \n",
       "4996    Male         0           No   Yes  Month-to-month     Yes     No   73   \n",
       "4997    Male         0           No   Yes  Month-to-month     Yes     No   74   \n",
       "4998    Male         1           No   Yes  Month-to-month     Yes    Yes   74   \n",
       "4999    Male         0          Yes   Yes        Two year     Yes     No   88   \n",
       "\n",
       "         Salary   Base_pay     Bonus  Unit_Price   Volume  openingbalance  \\\n",
       "4995  180696.80  72278.720  9034.840  629.511067  3927000             NaN   \n",
       "4996  185685.90  74274.360  9284.295  627.841071  6031900             NaN   \n",
       "4997  192636.80  77054.720  9631.840  625.860033  7949400             NaN   \n",
       "4998  195970.70  78388.280  9798.535  629.510005  3908400             NaN   \n",
       "4999  199970.74  79988.296  9998.537  627.839984  6003300             NaN   \n",
       "\n",
       "      closingbalance         low  Unit_Sales Total_Sales  Months Education  \n",
       "4995      293.838840  310.955001      117.80                  72        PG  \n",
       "4996      301.311314  309.610028      118.60                  72        PG  \n",
       "4997      306.040009  303.483494      118.60                  72        PG  \n",
       "4998      308.579987  312.432438      118.65                  72        PG  \n",
       "4999      312.307316  311.081089      118.75                  72        PG  "
      ]
     },
     "execution_count": 6,
     "metadata": {},
     "output_type": "execute_result"
    }
   ],
   "source": [
    "df.tail() #checking the last five rows"
   ]
  },
  {
   "cell_type": "markdown",
   "metadata": {},
   "source": [
    "**dataset has Null values and some empty cells are also present in Total_Sales column**"
   ]
  },
  {
   "cell_type": "code",
   "execution_count": 7,
   "metadata": {
    "scrolled": false
   },
   "outputs": [
    {
     "data": {
      "text/html": [
       "<div>\n",
       "<style scoped>\n",
       "    .dataframe tbody tr th:only-of-type {\n",
       "        vertical-align: middle;\n",
       "    }\n",
       "\n",
       "    .dataframe tbody tr th {\n",
       "        vertical-align: top;\n",
       "    }\n",
       "\n",
       "    .dataframe thead th {\n",
       "        text-align: right;\n",
       "    }\n",
       "</style>\n",
       "<table border=\"1\" class=\"dataframe\">\n",
       "  <thead>\n",
       "    <tr style=\"text-align: right;\">\n",
       "      <th></th>\n",
       "      <th>Business</th>\n",
       "      <th>Age</th>\n",
       "      <th>Salary</th>\n",
       "      <th>Base_pay</th>\n",
       "      <th>Bonus</th>\n",
       "      <th>Unit_Price</th>\n",
       "      <th>Volume</th>\n",
       "      <th>openingbalance</th>\n",
       "      <th>closingbalance</th>\n",
       "      <th>low</th>\n",
       "      <th>Unit_Sales</th>\n",
       "      <th>Months</th>\n",
       "    </tr>\n",
       "  </thead>\n",
       "  <tbody>\n",
       "    <tr>\n",
       "      <th>count</th>\n",
       "      <td>5000.000000</td>\n",
       "      <td>5000.000000</td>\n",
       "      <td>5000.000000</td>\n",
       "      <td>4977.000000</td>\n",
       "      <td>5000.000000</td>\n",
       "      <td>5000.000000</td>\n",
       "      <td>5.000000e+03</td>\n",
       "      <td>3524.000000</td>\n",
       "      <td>5000.000000</td>\n",
       "      <td>5000.000000</td>\n",
       "      <td>5000.00000</td>\n",
       "      <td>5000.00000</td>\n",
       "    </tr>\n",
       "    <tr>\n",
       "      <th>mean</th>\n",
       "      <td>0.160000</td>\n",
       "      <td>51.865000</td>\n",
       "      <td>99821.928553</td>\n",
       "      <td>40046.187707</td>\n",
       "      <td>4991.096428</td>\n",
       "      <td>51.258522</td>\n",
       "      <td>6.761260e+06</td>\n",
       "      <td>43.922020</td>\n",
       "      <td>43.577828</td>\n",
       "      <td>43.034129</td>\n",
       "      <td>64.84151</td>\n",
       "      <td>32.18480</td>\n",
       "    </tr>\n",
       "    <tr>\n",
       "      <th>std</th>\n",
       "      <td>0.366643</td>\n",
       "      <td>8.560691</td>\n",
       "      <td>25376.961744</td>\n",
       "      <td>10135.686075</td>\n",
       "      <td>1268.848087</td>\n",
       "      <td>52.244022</td>\n",
       "      <td>1.620476e+07</td>\n",
       "      <td>38.361497</td>\n",
       "      <td>37.148512</td>\n",
       "      <td>36.760641</td>\n",
       "      <td>30.13968</td>\n",
       "      <td>24.63673</td>\n",
       "    </tr>\n",
       "    <tr>\n",
       "      <th>min</th>\n",
       "      <td>0.000000</td>\n",
       "      <td>18.000000</td>\n",
       "      <td>5089.000000</td>\n",
       "      <td>2035.600000</td>\n",
       "      <td>254.450000</td>\n",
       "      <td>1.440000</td>\n",
       "      <td>0.000000e+00</td>\n",
       "      <td>3.680000</td>\n",
       "      <td>3.680000</td>\n",
       "      <td>3.650000</td>\n",
       "      <td>18.25000</td>\n",
       "      <td>0.00000</td>\n",
       "    </tr>\n",
       "    <tr>\n",
       "      <th>25%</th>\n",
       "      <td>0.000000</td>\n",
       "      <td>47.000000</td>\n",
       "      <td>83890.338980</td>\n",
       "      <td>33720.552420</td>\n",
       "      <td>4194.516950</td>\n",
       "      <td>25.727500</td>\n",
       "      <td>1.283850e+06</td>\n",
       "      <td>22.098750</td>\n",
       "      <td>21.990000</td>\n",
       "      <td>21.718750</td>\n",
       "      <td>35.50000</td>\n",
       "      <td>8.00000</td>\n",
       "    </tr>\n",
       "    <tr>\n",
       "      <th>50%</th>\n",
       "      <td>0.000000</td>\n",
       "      <td>52.000000</td>\n",
       "      <td>100579.378500</td>\n",
       "      <td>40282.016040</td>\n",
       "      <td>5028.968925</td>\n",
       "      <td>39.205000</td>\n",
       "      <td>2.870600e+06</td>\n",
       "      <td>33.119999</td>\n",
       "      <td>33.340000</td>\n",
       "      <td>32.880001</td>\n",
       "      <td>70.50000</td>\n",
       "      <td>28.00000</td>\n",
       "    </tr>\n",
       "    <tr>\n",
       "      <th>75%</th>\n",
       "      <td>0.000000</td>\n",
       "      <td>57.000000</td>\n",
       "      <td>116912.092475</td>\n",
       "      <td>46792.232410</td>\n",
       "      <td>5845.604624</td>\n",
       "      <td>58.715000</td>\n",
       "      <td>6.247100e+06</td>\n",
       "      <td>51.421839</td>\n",
       "      <td>51.117500</td>\n",
       "      <td>50.415000</td>\n",
       "      <td>89.95000</td>\n",
       "      <td>55.00000</td>\n",
       "    </tr>\n",
       "    <tr>\n",
       "      <th>max</th>\n",
       "      <td>1.000000</td>\n",
       "      <td>88.000000</td>\n",
       "      <td>199970.740000</td>\n",
       "      <td>79988.296000</td>\n",
       "      <td>9998.537000</td>\n",
       "      <td>629.511067</td>\n",
       "      <td>3.208684e+08</td>\n",
       "      <td>313.903904</td>\n",
       "      <td>313.688694</td>\n",
       "      <td>312.432438</td>\n",
       "      <td>118.75000</td>\n",
       "      <td>72.00000</td>\n",
       "    </tr>\n",
       "  </tbody>\n",
       "</table>\n",
       "</div>"
      ],
      "text/plain": [
       "          Business          Age         Salary      Base_pay        Bonus  \\\n",
       "count  5000.000000  5000.000000    5000.000000   4977.000000  5000.000000   \n",
       "mean      0.160000    51.865000   99821.928553  40046.187707  4991.096428   \n",
       "std       0.366643     8.560691   25376.961744  10135.686075  1268.848087   \n",
       "min       0.000000    18.000000    5089.000000   2035.600000   254.450000   \n",
       "25%       0.000000    47.000000   83890.338980  33720.552420  4194.516950   \n",
       "50%       0.000000    52.000000  100579.378500  40282.016040  5028.968925   \n",
       "75%       0.000000    57.000000  116912.092475  46792.232410  5845.604624   \n",
       "max       1.000000    88.000000  199970.740000  79988.296000  9998.537000   \n",
       "\n",
       "        Unit_Price        Volume  openingbalance  closingbalance          low  \\\n",
       "count  5000.000000  5.000000e+03     3524.000000     5000.000000  5000.000000   \n",
       "mean     51.258522  6.761260e+06       43.922020       43.577828    43.034129   \n",
       "std      52.244022  1.620476e+07       38.361497       37.148512    36.760641   \n",
       "min       1.440000  0.000000e+00        3.680000        3.680000     3.650000   \n",
       "25%      25.727500  1.283850e+06       22.098750       21.990000    21.718750   \n",
       "50%      39.205000  2.870600e+06       33.119999       33.340000    32.880001   \n",
       "75%      58.715000  6.247100e+06       51.421839       51.117500    50.415000   \n",
       "max     629.511067  3.208684e+08      313.903904      313.688694   312.432438   \n",
       "\n",
       "       Unit_Sales      Months  \n",
       "count  5000.00000  5000.00000  \n",
       "mean     64.84151    32.18480  \n",
       "std      30.13968    24.63673  \n",
       "min      18.25000     0.00000  \n",
       "25%      35.50000     8.00000  \n",
       "50%      70.50000    28.00000  \n",
       "75%      89.95000    55.00000  \n",
       "max     118.75000    72.00000  "
      ]
     },
     "execution_count": 7,
     "metadata": {},
     "output_type": "execute_result"
    }
   ],
   "source": [
    "# summary of the data. we can see that in some columns like Age, salary outliers are present\n",
    "df.describe()"
   ]
  },
  {
   "cell_type": "markdown",
   "metadata": {},
   "source": [
    "**outliers are present in the dataset as maximum value far greater than the median value**"
   ]
  },
  {
   "cell_type": "code",
   "execution_count": 8,
   "metadata": {
    "scrolled": false
   },
   "outputs": [
    {
     "name": "stdout",
     "output_type": "stream",
     "text": [
      "<class 'pandas.core.frame.DataFrame'>\n",
      "RangeIndex: 5000 entries, 0 to 4999\n",
      "Data columns (total 20 columns):\n",
      " #   Column          Non-Null Count  Dtype  \n",
      "---  ------          --------------  -----  \n",
      " 0   Gender          5000 non-null   object \n",
      " 1   Business        5000 non-null   int64  \n",
      " 2   Dependancies    5000 non-null   object \n",
      " 3   Calls           5000 non-null   object \n",
      " 4   Type            5000 non-null   object \n",
      " 5   Billing         5000 non-null   object \n",
      " 6   Rating          5000 non-null   object \n",
      " 7   Age             5000 non-null   int64  \n",
      " 8   Salary          5000 non-null   float64\n",
      " 9   Base_pay        4977 non-null   float64\n",
      " 10  Bonus           5000 non-null   float64\n",
      " 11  Unit_Price      5000 non-null   float64\n",
      " 12  Volume          5000 non-null   int64  \n",
      " 13  openingbalance  3524 non-null   float64\n",
      " 14  closingbalance  5000 non-null   float64\n",
      " 15  low             5000 non-null   float64\n",
      " 16  Unit_Sales      5000 non-null   float64\n",
      " 17  Total_Sales     4992 non-null   object \n",
      " 18  Months          5000 non-null   int64  \n",
      " 19  Education       5000 non-null   object \n",
      "dtypes: float64(8), int64(4), object(8)\n",
      "memory usage: 781.4+ KB\n"
     ]
    }
   ],
   "source": [
    "df.info()"
   ]
  },
  {
   "cell_type": "markdown",
   "metadata": {},
   "source": [
    "**Null values present in the Base_pay, opening Balance and total sales. also total_sales has datatype as string**"
   ]
  },
  {
   "cell_type": "code",
   "execution_count": 10,
   "metadata": {},
   "outputs": [],
   "source": [
    "# replacing the empty cell in Total_sales with nan and changing the datatype as float\n",
    "df = df.replace(r'^\\s*$', np.NaN, regex=True)\n",
    "df['Total_Sales']= df['Total_Sales'].astype(float)"
   ]
  },
  {
   "cell_type": "code",
   "execution_count": 11,
   "metadata": {
    "scrolled": false
   },
   "outputs": [
    {
     "name": "stdout",
     "output_type": "stream",
     "text": [
      "<class 'pandas.core.frame.DataFrame'>\n",
      "RangeIndex: 5000 entries, 0 to 4999\n",
      "Data columns (total 20 columns):\n",
      " #   Column          Non-Null Count  Dtype  \n",
      "---  ------          --------------  -----  \n",
      " 0   Gender          5000 non-null   object \n",
      " 1   Business        5000 non-null   int64  \n",
      " 2   Dependancies    5000 non-null   object \n",
      " 3   Calls           5000 non-null   object \n",
      " 4   Type            5000 non-null   object \n",
      " 5   Billing         5000 non-null   object \n",
      " 6   Rating          5000 non-null   object \n",
      " 7   Age             5000 non-null   int64  \n",
      " 8   Salary          5000 non-null   float64\n",
      " 9   Base_pay        4977 non-null   float64\n",
      " 10  Bonus           5000 non-null   float64\n",
      " 11  Unit_Price      5000 non-null   float64\n",
      " 12  Volume          5000 non-null   int64  \n",
      " 13  openingbalance  3524 non-null   float64\n",
      " 14  closingbalance  5000 non-null   float64\n",
      " 15  low             5000 non-null   float64\n",
      " 16  Unit_Sales      5000 non-null   float64\n",
      " 17  Total_Sales     4984 non-null   float64\n",
      " 18  Months          5000 non-null   int64  \n",
      " 19  Education       5000 non-null   object \n",
      "dtypes: float64(9), int64(4), object(7)\n",
      "memory usage: 781.4+ KB\n"
     ]
    }
   ],
   "source": [
    "df.info()"
   ]
  },
  {
   "cell_type": "markdown",
   "metadata": {},
   "source": [
    "**Total_sales datatype changed to float**"
   ]
  },
  {
   "cell_type": "code",
   "execution_count": 12,
   "metadata": {
    "scrolled": false
   },
   "outputs": [
    {
     "data": {
      "text/plain": [
       "Gender             0.00\n",
       "Business           0.00\n",
       "Dependancies       0.00\n",
       "Calls              0.00\n",
       "Type               0.00\n",
       "Billing            0.00\n",
       "Rating             0.00\n",
       "Age                0.00\n",
       "Salary             0.00\n",
       "Base_pay           0.46\n",
       "Bonus              0.00\n",
       "Unit_Price         0.00\n",
       "Volume             0.00\n",
       "openingbalance    29.52\n",
       "closingbalance     0.00\n",
       "low                0.00\n",
       "Unit_Sales         0.00\n",
       "Total_Sales        0.32\n",
       "Months             0.00\n",
       "Education          0.00\n",
       "dtype: float64"
      ]
     },
     "execution_count": 12,
     "metadata": {},
     "output_type": "execute_result"
    }
   ],
   "source": [
    "df.isnull().sum()*100/df.shape[0]"
   ]
  },
  {
   "cell_type": "markdown",
   "metadata": {},
   "source": [
    "**openingbalance** has **29%** null values and **Basepay and Total sales** have **0.46% and 0.32%** repectively.<br> so null values can be replaced by\n",
    "mean or median based on distribution"
   ]
  },
  {
   "cell_type": "markdown",
   "metadata": {},
   "source": [
    "**Checking normal distribution of the numerical columns in data**"
   ]
  },
  {
   "cell_type": "code",
   "execution_count": 34,
   "metadata": {
    "scrolled": false
   },
   "outputs": [
    {
     "data": {
      "text/plain": [
       "<matplotlib.axes._subplots.AxesSubplot at 0x127594ab508>"
      ]
     },
     "execution_count": 34,
     "metadata": {},
     "output_type": "execute_result"
    },
    {
     "data": {
      "image/png": "[encoded data removed]",
      "text/plain": [
       "<Figure size 1440x1080 with 12 Axes>"
      ]
     },
     "metadata": {
      "needs_background": "light"
     },
     "output_type": "display_data"
    }
   ],
   "source": [
    "fig,((ax1,ax2,ax3),(ax4,ax5,ax6),(ax7,ax8,ax9),(ax10,ax11,ax12))=plt.subplots(4,3,figsize=(20,15))\n",
    "sns.distplot(df['Age'],ax=ax1)\n",
    "sns.distplot(df['Salary'],ax=ax2)\n",
    "sns.distplot(df['Base_pay'],ax=ax3)\n",
    "sns.distplot(df['Bonus'],ax=ax4)\n",
    "sns.distplot(df['Unit_Price'],ax=ax5)\n",
    "sns.distplot(df['Volume'],ax=ax6)\n",
    "sns.distplot(df['openingbalance'],ax=ax7)\n",
    "sns.distplot(df['closingbalance'],ax=ax8)\n",
    "sns.distplot(df['low'],ax=ax9)\n",
    "sns.distplot(df['Unit_Sales'],ax=ax10)\n",
    "sns.distplot(df['Total_Sales'],ax=ax11)\n",
    "sns.distplot(df['Months'],ax=ax12)\n"
   ]
  },
  {
   "cell_type": "markdown",
   "metadata": {},
   "source": [
    "**Unit_price, volume, low, openingbalance, closing balance, Unit_Sales, Total_Sales are having positively skewed distribution**"
   ]
  },
  {
   "cell_type": "code",
   "execution_count": 35,
   "metadata": {
    "scrolled": true
   },
   "outputs": [],
   "source": [
    "# replacing null values of base_pay with mean as base pay has normal distribution\n",
    "df['Base_pay']=df['Base_pay'].fillna(df['Base_pay'].mean())"
   ]
  },
  {
   "cell_type": "code",
   "execution_count": 36,
   "metadata": {},
   "outputs": [],
   "source": [
    "# replacing null values of openingbalance with median as it has positively skewed distribution\n",
    "df['openingbalance']=df['openingbalance'].fillna(df['openingbalance'].median())"
   ]
  },
  {
   "cell_type": "code",
   "execution_count": 37,
   "metadata": {},
   "outputs": [],
   "source": [
    "# replacing null values with median as it has positively skewed distribution\n",
    "df['Total_Sales']=df['Total_Sales'].fillna(df['Total_Sales'].median())"
   ]
  },
  {
   "cell_type": "code",
   "execution_count": 39,
   "metadata": {},
   "outputs": [
    {
     "data": {
      "text/plain": [
       "<matplotlib.axes._subplots.AxesSubplot at 0x1275b58d048>"
      ]
     },
     "execution_count": 39,
     "metadata": {},
     "output_type": "execute_result"
    },
    {
     "data": {
      "image/png": "[encoded data removed]",
      "text/plain": [
       "<Figure size 432x288 with 2 Axes>"
      ]
     },
     "metadata": {
      "needs_background": "light"
     },
     "output_type": "display_data"
    }
   ],
   "source": [
    "# now checking the values if any with heatmap\n",
    "\n",
    "sns.heatmap(df.isnull(),yticklabels=False,cmap='viridis')"
   ]
  },
  {
   "cell_type": "code",
   "execution_count": 40,
   "metadata": {},
   "outputs": [
    {
     "data": {
      "text/html": [
       "<div>\n",
       "<style scoped>\n",
       "    .dataframe tbody tr th:only-of-type {\n",
       "        vertical-align: middle;\n",
       "    }\n",
       "\n",
       "    .dataframe tbody tr th {\n",
       "        vertical-align: top;\n",
       "    }\n",
       "\n",
       "    .dataframe thead th {\n",
       "        text-align: right;\n",
       "    }\n",
       "</style>\n",
       "<table border=\"1\" class=\"dataframe\">\n",
       "  <thead>\n",
       "    <tr style=\"text-align: right;\">\n",
       "      <th></th>\n",
       "      <th>Business</th>\n",
       "      <th>Age</th>\n",
       "      <th>Salary</th>\n",
       "      <th>Base_pay</th>\n",
       "      <th>Bonus</th>\n",
       "      <th>Unit_Price</th>\n",
       "      <th>Volume</th>\n",
       "      <th>openingbalance</th>\n",
       "      <th>closingbalance</th>\n",
       "      <th>low</th>\n",
       "      <th>Unit_Sales</th>\n",
       "      <th>Total_Sales</th>\n",
       "      <th>Months</th>\n",
       "    </tr>\n",
       "  </thead>\n",
       "  <tbody>\n",
       "    <tr>\n",
       "      <th>Business</th>\n",
       "      <td>1.000000</td>\n",
       "      <td>-0.005736</td>\n",
       "      <td>-0.008333</td>\n",
       "      <td>-0.009520</td>\n",
       "      <td>-0.008333</td>\n",
       "      <td>0.002512</td>\n",
       "      <td>0.018296</td>\n",
       "      <td>0.008965</td>\n",
       "      <td>0.005888</td>\n",
       "      <td>0.000226</td>\n",
       "      <td>-0.018623</td>\n",
       "      <td>-0.018338</td>\n",
       "      <td>-0.011645</td>\n",
       "    </tr>\n",
       "    <tr>\n",
       "      <th>Age</th>\n",
       "      <td>-0.005736</td>\n",
       "      <td>1.000000</td>\n",
       "      <td>0.288743</td>\n",
       "      <td>0.281058</td>\n",
       "      <td>0.288743</td>\n",
       "      <td>0.191133</td>\n",
       "      <td>-0.036265</td>\n",
       "      <td>0.086100</td>\n",
       "      <td>0.294936</td>\n",
       "      <td>0.253885</td>\n",
       "      <td>0.186905</td>\n",
       "      <td>0.143351</td>\n",
       "      <td>0.129768</td>\n",
       "    </tr>\n",
       "    <tr>\n",
       "      <th>Salary</th>\n",
       "      <td>-0.008333</td>\n",
       "      <td>0.288743</td>\n",
       "      <td>1.000000</td>\n",
       "      <td>0.990394</td>\n",
       "      <td>1.000000</td>\n",
       "      <td>0.596259</td>\n",
       "      <td>-0.207246</td>\n",
       "      <td>0.036474</td>\n",
       "      <td>0.316732</td>\n",
       "      <td>0.811943</td>\n",
       "      <td>0.940854</td>\n",
       "      <td>0.879311</td>\n",
       "      <td>0.606865</td>\n",
       "    </tr>\n",
       "    <tr>\n",
       "      <th>Base_pay</th>\n",
       "      <td>-0.009520</td>\n",
       "      <td>0.281058</td>\n",
       "      <td>0.990394</td>\n",
       "      <td>1.000000</td>\n",
       "      <td>0.990394</td>\n",
       "      <td>0.598298</td>\n",
       "      <td>-0.208713</td>\n",
       "      <td>0.030907</td>\n",
       "      <td>0.313972</td>\n",
       "      <td>0.813796</td>\n",
       "      <td>0.934440</td>\n",
       "      <td>0.879184</td>\n",
       "      <td>0.601863</td>\n",
       "    </tr>\n",
       "    <tr>\n",
       "      <th>Bonus</th>\n",
       "      <td>-0.008333</td>\n",
       "      <td>0.288743</td>\n",
       "      <td>1.000000</td>\n",
       "      <td>0.990394</td>\n",
       "      <td>1.000000</td>\n",
       "      <td>0.596259</td>\n",
       "      <td>-0.207246</td>\n",
       "      <td>0.036474</td>\n",
       "      <td>0.316732</td>\n",
       "      <td>0.811943</td>\n",
       "      <td>0.940854</td>\n",
       "      <td>0.879311</td>\n",
       "      <td>0.606865</td>\n",
       "    </tr>\n",
       "    <tr>\n",
       "      <th>Unit_Price</th>\n",
       "      <td>0.002512</td>\n",
       "      <td>0.191133</td>\n",
       "      <td>0.596259</td>\n",
       "      <td>0.598298</td>\n",
       "      <td>0.596259</td>\n",
       "      <td>1.000000</td>\n",
       "      <td>-0.045986</td>\n",
       "      <td>-0.046737</td>\n",
       "      <td>0.332721</td>\n",
       "      <td>0.832543</td>\n",
       "      <td>0.521937</td>\n",
       "      <td>0.598798</td>\n",
       "      <td>0.445347</td>\n",
       "    </tr>\n",
       "    <tr>\n",
       "      <th>Volume</th>\n",
       "      <td>0.018296</td>\n",
       "      <td>-0.036265</td>\n",
       "      <td>-0.207246</td>\n",
       "      <td>-0.208713</td>\n",
       "      <td>-0.207246</td>\n",
       "      <td>-0.045986</td>\n",
       "      <td>1.000000</td>\n",
       "      <td>-0.022152</td>\n",
       "      <td>-0.063188</td>\n",
       "      <td>-0.146219</td>\n",
       "      <td>-0.215776</td>\n",
       "      <td>-0.183335</td>\n",
       "      <td>-0.124170</td>\n",
       "    </tr>\n",
       "    <tr>\n",
       "      <th>openingbalance</th>\n",
       "      <td>0.008965</td>\n",
       "      <td>0.086100</td>\n",
       "      <td>0.036474</td>\n",
       "      <td>0.030907</td>\n",
       "      <td>0.036474</td>\n",
       "      <td>-0.046737</td>\n",
       "      <td>-0.022152</td>\n",
       "      <td>1.000000</td>\n",
       "      <td>0.284955</td>\n",
       "      <td>-0.046828</td>\n",
       "      <td>0.039954</td>\n",
       "      <td>-0.045660</td>\n",
       "      <td>-0.131468</td>\n",
       "    </tr>\n",
       "    <tr>\n",
       "      <th>closingbalance</th>\n",
       "      <td>0.005888</td>\n",
       "      <td>0.294936</td>\n",
       "      <td>0.316732</td>\n",
       "      <td>0.313972</td>\n",
       "      <td>0.316732</td>\n",
       "      <td>0.332721</td>\n",
       "      <td>-0.063188</td>\n",
       "      <td>0.284955</td>\n",
       "      <td>1.000000</td>\n",
       "      <td>0.382555</td>\n",
       "      <td>0.237685</td>\n",
       "      <td>0.231808</td>\n",
       "      <td>0.293089</td>\n",
       "    </tr>\n",
       "    <tr>\n",
       "      <th>low</th>\n",
       "      <td>0.000226</td>\n",
       "      <td>0.253885</td>\n",
       "      <td>0.811943</td>\n",
       "      <td>0.813796</td>\n",
       "      <td>0.811943</td>\n",
       "      <td>0.832543</td>\n",
       "      <td>-0.146219</td>\n",
       "      <td>-0.046828</td>\n",
       "      <td>0.382555</td>\n",
       "      <td>1.000000</td>\n",
       "      <td>0.749458</td>\n",
       "      <td>0.853233</td>\n",
       "      <td>0.610039</td>\n",
       "    </tr>\n",
       "    <tr>\n",
       "      <th>Unit_Sales</th>\n",
       "      <td>-0.018623</td>\n",
       "      <td>0.186905</td>\n",
       "      <td>0.940854</td>\n",
       "      <td>0.934440</td>\n",
       "      <td>0.940854</td>\n",
       "      <td>0.521937</td>\n",
       "      <td>-0.215776</td>\n",
       "      <td>0.039954</td>\n",
       "      <td>0.237685</td>\n",
       "      <td>0.749458</td>\n",
       "      <td>1.000000</td>\n",
       "      <td>0.891793</td>\n",
       "      <td>0.487154</td>\n",
       "    </tr>\n",
       "    <tr>\n",
       "      <th>Total_Sales</th>\n",
       "      <td>-0.018338</td>\n",
       "      <td>0.143351</td>\n",
       "      <td>0.879311</td>\n",
       "      <td>0.879184</td>\n",
       "      <td>0.879311</td>\n",
       "      <td>0.598798</td>\n",
       "      <td>-0.183335</td>\n",
       "      <td>-0.045660</td>\n",
       "      <td>0.231808</td>\n",
       "      <td>0.853233</td>\n",
       "      <td>0.891793</td>\n",
       "      <td>1.000000</td>\n",
       "      <td>0.701328</td>\n",
       "    </tr>\n",
       "    <tr>\n",
       "      <th>Months</th>\n",
       "      <td>-0.011645</td>\n",
       "      <td>0.129768</td>\n",
       "      <td>0.606865</td>\n",
       "      <td>0.601863</td>\n",
       "      <td>0.606865</td>\n",
       "      <td>0.445347</td>\n",
       "      <td>-0.124170</td>\n",
       "      <td>-0.131468</td>\n",
       "      <td>0.293089</td>\n",
       "      <td>0.610039</td>\n",
       "      <td>0.487154</td>\n",
       "      <td>0.701328</td>\n",
       "      <td>1.000000</td>\n",
       "    </tr>\n",
       "  </tbody>\n",
       "</table>\n",
       "</div>"
      ],
      "text/plain": [
       "                Business       Age    Salary  Base_pay     Bonus  Unit_Price  \\\n",
       "Business        1.000000 -0.005736 -0.008333 -0.009520 -0.008333    0.002512   \n",
       "Age            -0.005736  1.000000  0.288743  0.281058  0.288743    0.191133   \n",
       "Salary         -0.008333  0.288743  1.000000  0.990394  1.000000    0.596259   \n",
       "Base_pay       -0.009520  0.281058  0.990394  1.000000  0.990394    0.598298   \n",
       "Bonus          -0.008333  0.288743  1.000000  0.990394  1.000000    0.596259   \n",
       "Unit_Price      0.002512  0.191133  0.596259  0.598298  0.596259    1.000000   \n",
       "Volume          0.018296 -0.036265 -0.207246 -0.208713 -0.207246   -0.045986   \n",
       "openingbalance  0.008965  0.086100  0.036474  0.030907  0.036474   -0.046737   \n",
       "closingbalance  0.005888  0.294936  0.316732  0.313972  0.316732    0.332721   \n",
       "low             0.000226  0.253885  0.811943  0.813796  0.811943    0.832543   \n",
       "Unit_Sales     -0.018623  0.186905  0.940854  0.934440  0.940854    0.521937   \n",
       "Total_Sales    -0.018338  0.143351  0.879311  0.879184  0.879311    0.598798   \n",
       "Months         -0.011645  0.129768  0.606865  0.601863  0.606865    0.445347   \n",
       "\n",
       "                  Volume  openingbalance  closingbalance       low  \\\n",
       "Business        0.018296        0.008965        0.005888  0.000226   \n",
       "Age            -0.036265        0.086100        0.294936  0.253885   \n",
       "Salary         -0.207246        0.036474        0.316732  0.811943   \n",
       "Base_pay       -0.208713        0.030907        0.313972  0.813796   \n",
       "Bonus          -0.207246        0.036474        0.316732  0.811943   \n",
       "Unit_Price     -0.045986       -0.046737        0.332721  0.832543   \n",
       "Volume          1.000000       -0.022152       -0.063188 -0.146219   \n",
       "openingbalance -0.022152        1.000000        0.284955 -0.046828   \n",
       "closingbalance -0.063188        0.284955        1.000000  0.382555   \n",
       "low            -0.146219       -0.046828        0.382555  1.000000   \n",
       "Unit_Sales     -0.215776        0.039954        0.237685  0.749458   \n",
       "Total_Sales    -0.183335       -0.045660        0.231808  0.853233   \n",
       "Months         -0.124170       -0.131468        0.293089  0.610039   \n",
       "\n",
       "                Unit_Sales  Total_Sales    Months  \n",
       "Business         -0.018623    -0.018338 -0.011645  \n",
       "Age               0.186905     0.143351  0.129768  \n",
       "Salary            0.940854     0.879311  0.606865  \n",
       "Base_pay          0.934440     0.879184  0.601863  \n",
       "Bonus             0.940854     0.879311  0.606865  \n",
       "Unit_Price        0.521937     0.598798  0.445347  \n",
       "Volume           -0.215776    -0.183335 -0.124170  \n",
       "openingbalance    0.039954    -0.045660 -0.131468  \n",
       "closingbalance    0.237685     0.231808  0.293089  \n",
       "low               0.749458     0.853233  0.610039  \n",
       "Unit_Sales        1.000000     0.891793  0.487154  \n",
       "Total_Sales       0.891793     1.000000  0.701328  \n",
       "Months            0.487154     0.701328  1.000000  "
      ]
     },
     "execution_count": 40,
     "metadata": {},
     "output_type": "execute_result"
    }
   ],
   "source": [
    "# Checking correlation\n",
    "df.corr()"
   ]
  },
  {
   "cell_type": "code",
   "execution_count": 41,
   "metadata": {},
   "outputs": [
    {
     "data": {
      "text/plain": [
       "<matplotlib.axes._subplots.AxesSubplot at 0x1275b5bd3c8>"
      ]
     },
     "execution_count": 41,
     "metadata": {},
     "output_type": "execute_result"
    },
    {
     "data": {
      "image/png": "[encoded data removed]",
      "text/plain": [
       "<Figure size 720x504 with 2 Axes>"
      ]
     },
     "metadata": {
      "needs_background": "light"
     },
     "output_type": "display_data"
    }
   ],
   "source": [
    "# spearman correlation with heatmap\n",
    "plt.figure(figsize=(10,7))\n",
    "sns.heatmap(df.corr(method='spearman'), cmap=\"YlGnBu\", annot=True)"
   ]
  },
  {
   "cell_type": "markdown",
   "metadata": {},
   "source": [
    "**Variables having good Correlation**\n",
    "<br>1) Base_pay\n",
    "<br>2) Bonus\n",
    "<br>3) Unit_Price\n",
    "<br>4) low\n",
    "<br>5) Unit_sales \n",
    "<br>6) Total_Sales\n",
    "<br>7) Months\n",
    "\n",
    "<br>**Also Base_pay & Bonus and Unit sales & Total_sales are highly correlated**"
   ]
  },
  {
   "cell_type": "markdown",
   "metadata": {},
   "source": [
    "## Outliers treatment in dependant and independant variable"
   ]
  },
  {
   "cell_type": "code",
   "execution_count": 42,
   "metadata": {},
   "outputs": [
    {
     "data": {
      "text/plain": [
       "<matplotlib.axes._subplots.AxesSubplot at 0x1275b0971c8>"
      ]
     },
     "execution_count": 42,
     "metadata": {},
     "output_type": "execute_result"
    },
    {
     "data": {
      "image/png": "[encoded data removed]",
      "text/plain": [
       "<Figure size 432x288 with 1 Axes>"
      ]
     },
     "metadata": {
      "needs_background": "light"
     },
     "output_type": "display_data"
    }
   ],
   "source": [
    "#checking Outliers in Target variable\n",
    "sns.boxplot(df['Salary'])"
   ]
  },
  {
   "cell_type": "code",
   "execution_count": 44,
   "metadata": {},
   "outputs": [],
   "source": [
    "def Remove_outlier(df, variable):\n",
    "    Q1= df[variable].quantile(0.25)\n",
    "    Q3= df[variable].quantile(0.75)\n",
    "    IQR = Q3 - Q1\n",
    "    lower_limit = Q1-1.5*IQR\n",
    "    upper_limit = Q3+1.5*IQR\n",
    "    df[variable]=np.where(df[variable] > upper_limit,upper_limit,\n",
    "                        np.where(df[variable] < lower_limit,lower_limit, \n",
    "                                 df[variable]))"
   ]
  },
  {
   "cell_type": "code",
   "execution_count": 45,
   "metadata": {},
   "outputs": [
    {
     "data": {
      "text/plain": [
       "<matplotlib.axes._subplots.AxesSubplot at 0x1275b50c9c8>"
      ]
     },
     "execution_count": 45,
     "metadata": {},
     "output_type": "execute_result"
    },
    {
     "data": {
      "image/png": "[encoded data removed]",
      "text/plain": [
       "<Figure size 432x288 with 1 Axes>"
      ]
     },
     "metadata": {
      "needs_background": "light"
     },
     "output_type": "display_data"
    }
   ],
   "source": [
    "Remove_outlier(df,'Salary')\n",
    "sns.boxplot(df['Salary'])"
   ]
  },
  {
   "cell_type": "code",
   "execution_count": 54,
   "metadata": {
    "scrolled": false
   },
   "outputs": [
    {
     "data": {
      "text/plain": [
       "<matplotlib.axes._subplots.AxesSubplot at 0x1275e2ac908>"
      ]
     },
     "execution_count": 54,
     "metadata": {},
     "output_type": "execute_result"
    },
    {
     "data": {
      "image/png": "[encoded data removed]",
      "text/plain": [
       "<Figure size 720x504 with 8 Axes>"
      ]
     },
     "metadata": {
      "needs_background": "light"
     },
     "output_type": "display_data"
    }
   ],
   "source": [
    "#checking outliers in independant variables\n",
    " \n",
    "\n",
    "fig,((ax1,ax2,ax3,ax4),(ax5,ax6,ax7,ax8))=plt.subplots(2,4,figsize=(10,7))\n",
    "sns.boxplot(df['Base_pay'],ax=ax1)\n",
    "sns.boxplot(df['Bonus'],ax=ax2)\n",
    "sns.boxplot(df['Unit_Price'],ax=ax3)\n",
    "sns.boxplot(df['low'],ax=ax4)\n",
    "sns.boxplot(df['Unit_Sales'],ax=ax5)\n",
    "sns.boxplot(df['Total_Sales'],ax=ax6)\n",
    "sns.boxplot(df['Months'],ax=ax7)\n",
    "sns.boxplot(df['Age'],ax=ax8)\n"
   ]
  },
  {
   "cell_type": "markdown",
   "metadata": {},
   "source": [
    "**Base_pay, Bonus, Age , Unit_Price, low have outliers and also unit_Price and low column are positively skewed so we have log transform them first**"
   ]
  },
  {
   "cell_type": "code",
   "execution_count": 55,
   "metadata": {},
   "outputs": [],
   "source": [
    "# removing outliers directly in below columns as they are normally distributedd\n",
    "Remove_outlier(df,'Base_pay')\n",
    "Remove_outlier(df,'Bonus')\n",
    "Remove_outlier(df,'Age')"
   ]
  },
  {
   "cell_type": "code",
   "execution_count": 56,
   "metadata": {},
   "outputs": [],
   "source": [
    "#first taking log transform\n",
    "df['Unit_Price']= np.log(df['Unit_Price'])\n",
    "Remove_outlier(df,'Unit_Price')"
   ]
  },
  {
   "cell_type": "code",
   "execution_count": 57,
   "metadata": {},
   "outputs": [],
   "source": [
    "df['low']= np.log(df['low'])\n",
    "Remove_outlier(df,'low')"
   ]
  },
  {
   "cell_type": "code",
   "execution_count": null,
   "metadata": {},
   "outputs": [],
   "source": [
    "# now again check with boxplot"
   ]
  },
  {
   "cell_type": "code",
   "execution_count": 58,
   "metadata": {
    "scrolled": false
   },
   "outputs": [
    {
     "data": {
      "text/plain": [
       "<matplotlib.axes._subplots.AxesSubplot at 0x1275fdf1b88>"
      ]
     },
     "execution_count": 58,
     "metadata": {},
     "output_type": "execute_result"
    },
    {
     "data": {
      "image/png": "[encoded data removed]",
      "text/plain": [
       "<Figure size 720x504 with 8 Axes>"
      ]
     },
     "metadata": {
      "needs_background": "light"
     },
     "output_type": "display_data"
    }
   ],
   "source": [
    "\n",
    "fig,((ax1,ax2,ax3,ax4),(ax5,ax6,ax7,ax8))=plt.subplots(2,4,figsize=(10,7))\n",
    "sns.boxplot(df['Base_pay'],ax=ax1)\n",
    "sns.boxplot(df['Bonus'],ax=ax2)\n",
    "sns.boxplot(df['Unit_Price'],ax=ax3)\n",
    "sns.boxplot(df['low'],ax=ax4)\n",
    "sns.boxplot(df['Unit_Sales'],ax=ax5)\n",
    "sns.boxplot(df['Total_Sales'],ax=ax6)\n",
    "sns.boxplot(df['Months'],ax=ax7)\n",
    "sns.boxplot(df['Age'],ax=ax8)"
   ]
  },
  {
   "cell_type": "markdown",
   "metadata": {},
   "source": [
    "**All the outliers are removed**"
   ]
  },
  {
   "cell_type": "markdown",
   "metadata": {},
   "source": [
    "## Relationship with dependant variable"
   ]
  },
  {
   "cell_type": "code",
   "execution_count": 61,
   "metadata": {},
   "outputs": [
    {
     "data": {
      "text/plain": [
       "<matplotlib.axes._subplots.AxesSubplot at 0x1275d753ec8>"
      ]
     },
     "execution_count": 61,
     "metadata": {},
     "output_type": "execute_result"
    },
    {
     "data": {
      "image/png": "[encoded data removed]",
      "text/plain": [
       "<Figure size 1440x1080 with 12 Axes>"
      ]
     },
     "metadata": {
      "needs_background": "light"
     },
     "output_type": "display_data"
    }
   ],
   "source": [
    "# Relationship with continous variable\n",
    "fig,((ax1,ax2,ax3),(ax4,ax5,ax6),(ax7,ax8,ax9),(ax10,ax11,ax12))=plt.subplots(4,3,figsize=(20,15))\n",
    "sns.scatterplot(x='Age',y='Salary',data=df,ax=ax1)\n",
    "sns.scatterplot(x='Base_pay',y='Salary',data=df,ax=ax2)\n",
    "sns.scatterplot(x='Bonus',y='Salary',data=df,ax=ax3)\n",
    "sns.scatterplot(x='Unit_Price',y='Salary',data=df,ax=ax4)\n",
    "sns.scatterplot(x='Volume',y='Salary',data=df,ax=ax5)\n",
    "sns.scatterplot(x='openingbalance',y='Salary',data=df,ax=ax6)\n",
    "sns.scatterplot(x='closingbalance',y='Salary',data=df,ax=ax7)\n",
    "sns.scatterplot(x='low',y='Salary',data=df,ax=ax8)\n",
    "sns.scatterplot(x='Unit_Sales',y='Salary',data=df,ax=ax9)\n",
    "sns.scatterplot(x='Total_Sales',y='Salary',data=df,ax=ax10)\n",
    "sns.scatterplot(x='Months',y='Salary',data=df,ax=ax11)\n"
   ]
  },
  {
   "cell_type": "markdown",
   "metadata": {},
   "source": [
    "**Base_pay, bonus, Unit_Price, low, Total_sales,Unit_sales and Month shows significant relationship. other varibles not have any significant relationship with dependant variable**"
   ]
  },
  {
   "cell_type": "markdown",
   "metadata": {},
   "source": [
    "## Relationship with categorical variables"
   ]
  },
  {
   "cell_type": "code",
   "execution_count": 62,
   "metadata": {},
   "outputs": [
    {
     "data": {
      "text/plain": [
       "<matplotlib.axes._subplots.AxesSubplot at 0x1275d4418c8>"
      ]
     },
     "execution_count": 62,
     "metadata": {},
     "output_type": "execute_result"
    },
    {
     "data": {
      "image/png": "[encoded data removed]",
      "text/plain": [
       "<Figure size 432x288 with 1 Axes>"
      ]
     },
     "metadata": {
      "needs_background": "light"
     },
     "output_type": "display_data"
    }
   ],
   "source": [
    "sns.boxplot(x='Gender',y='Salary',data=df)"
   ]
  },
  {
   "cell_type": "markdown",
   "metadata": {},
   "source": [
    "**No relationship**"
   ]
  },
  {
   "cell_type": "code",
   "execution_count": 63,
   "metadata": {
    "scrolled": true
   },
   "outputs": [
    {
     "data": {
      "text/plain": [
       "<matplotlib.axes._subplots.AxesSubplot at 0x1275d68b7c8>"
      ]
     },
     "execution_count": 63,
     "metadata": {},
     "output_type": "execute_result"
    },
    {
     "data": {
      "image/png": "[encoded data removed]",
      "text/plain": [
       "<Figure size 432x288 with 1 Axes>"
      ]
     },
     "metadata": {
      "needs_background": "light"
     },
     "output_type": "display_data"
    }
   ],
   "source": [
    "sns.boxplot(x='Business', y='Salary',data=df)"
   ]
  },
  {
   "cell_type": "markdown",
   "metadata": {},
   "source": [
    "**No relationship with business**"
   ]
  },
  {
   "cell_type": "code",
   "execution_count": 64,
   "metadata": {
    "scrolled": true
   },
   "outputs": [
    {
     "data": {
      "text/plain": [
       "<matplotlib.axes._subplots.AxesSubplot at 0x1275d6febc8>"
      ]
     },
     "execution_count": 64,
     "metadata": {},
     "output_type": "execute_result"
    },
    {
     "data": {
      "image/png": "[encoded data removed]",
      "text/plain": [
       "<Figure size 432x288 with 1 Axes>"
      ]
     },
     "metadata": {
      "needs_background": "light"
     },
     "output_type": "display_data"
    }
   ],
   "source": [
    "sns.boxplot(x='Dependancies', y='Salary',data=df)"
   ]
  },
  {
   "cell_type": "markdown",
   "metadata": {},
   "source": [
    "**No relationship with Dependancies**"
   ]
  },
  {
   "cell_type": "code",
   "execution_count": 66,
   "metadata": {
    "scrolled": true
   },
   "outputs": [
    {
     "data": {
      "text/plain": [
       "<matplotlib.axes._subplots.AxesSubplot at 0x1275dcb8248>"
      ]
     },
     "execution_count": 66,
     "metadata": {},
     "output_type": "execute_result"
    },
    {
     "data": {
      "image/png": "[encoded data removed]",
      "text/plain": [
       "<Figure size 432x288 with 1 Axes>"
      ]
     },
     "metadata": {
      "needs_background": "light"
     },
     "output_type": "display_data"
    }
   ],
   "source": [
    "sns.boxplot(x='Calls', y='Salary',data=df)"
   ]
  },
  {
   "cell_type": "markdown",
   "metadata": {},
   "source": [
    "**No significant relationship with calls**"
   ]
  },
  {
   "cell_type": "code",
   "execution_count": 67,
   "metadata": {
    "scrolled": true
   },
   "outputs": [
    {
     "data": {
      "text/plain": [
       "<matplotlib.axes._subplots.AxesSubplot at 0x1275dd393c8>"
      ]
     },
     "execution_count": 67,
     "metadata": {},
     "output_type": "execute_result"
    },
    {
     "data": {
      "image/png": "[encoded data removed]",
      "text/plain": [
       "<Figure size 432x288 with 1 Axes>"
      ]
     },
     "metadata": {
      "needs_background": "light"
     },
     "output_type": "display_data"
    }
   ],
   "source": [
    "sns.boxplot(x='Type', y='Salary',data=df)"
   ]
  },
  {
   "cell_type": "markdown",
   "metadata": {},
   "source": [
    "**No relationship with calls**"
   ]
  },
  {
   "cell_type": "code",
   "execution_count": 68,
   "metadata": {
    "scrolled": true
   },
   "outputs": [
    {
     "data": {
      "text/plain": [
       "<matplotlib.axes._subplots.AxesSubplot at 0x1275ddb0dc8>"
      ]
     },
     "execution_count": 68,
     "metadata": {},
     "output_type": "execute_result"
    },
    {
     "data": {
      "image/png": "[encoded data removed]",
      "text/plain": [
       "<Figure size 432x288 with 1 Axes>"
      ]
     },
     "metadata": {
      "needs_background": "light"
     },
     "output_type": "display_data"
    }
   ],
   "source": [
    "sns.boxplot(x='Billing', y='Salary',data=df)"
   ]
  },
  {
   "cell_type": "markdown",
   "metadata": {},
   "source": [
    "**No relationship with Billing**"
   ]
  },
  {
   "cell_type": "code",
   "execution_count": 69,
   "metadata": {
    "scrolled": true
   },
   "outputs": [
    {
     "data": {
      "text/plain": [
       "<matplotlib.axes._subplots.AxesSubplot at 0x1275de33648>"
      ]
     },
     "execution_count": 69,
     "metadata": {},
     "output_type": "execute_result"
    },
    {
     "data": {
      "image/png": "[encoded data removed]",
      "text/plain": [
       "<Figure size 432x288 with 1 Axes>"
      ]
     },
     "metadata": {
      "needs_background": "light"
     },
     "output_type": "display_data"
    }
   ],
   "source": [
    "sns.boxplot(x='Rating', y='Salary',data=df)"
   ]
  },
  {
   "cell_type": "markdown",
   "metadata": {},
   "source": [
    "**No relationship with Rating**"
   ]
  },
  {
   "cell_type": "code",
   "execution_count": 71,
   "metadata": {
    "scrolled": true
   },
   "outputs": [
    {
     "data": {
      "text/plain": [
       "<matplotlib.axes._subplots.AxesSubplot at 0x1275debb308>"
      ]
     },
     "execution_count": 71,
     "metadata": {},
     "output_type": "execute_result"
    },
    {
     "data": {
      "image/png": "[encoded data removed]",
      "text/plain": [
       "<Figure size 432x288 with 1 Axes>"
      ]
     },
     "metadata": {
      "needs_background": "light"
     },
     "output_type": "display_data"
    }
   ],
   "source": [
    "sns.boxplot(x='Education', y='Salary',data=df)"
   ]
  },
  {
   "cell_type": "markdown",
   "metadata": {},
   "source": [
    "**Education is the only categorical variable which influence the target variable**"
   ]
  },
  {
   "cell_type": "markdown",
   "metadata": {},
   "source": [
    "## Preparation of the data for the model"
   ]
  },
  {
   "cell_type": "code",
   "execution_count": 72,
   "metadata": {},
   "outputs": [],
   "source": [
    "# as 'Base_pay' and 'Bonus' are highly correlated which each other, therfore taking averag of these columns for analysis\n",
    "\n",
    "df['Base_pay+Bonus']= (df['Base_pay']+df['Bonus'])/2"
   ]
  },
  {
   "cell_type": "code",
   "execution_count": 73,
   "metadata": {},
   "outputs": [],
   "source": [
    "# also 'Total_sales' and 'Unit_sales' are highly correlated which each other, therfore taking averag of these columns for analysis\n",
    "\n",
    "df['Total_sales+Unit_Sales']= (df['Total_Sales']+df['Unit_Sales'])/2"
   ]
  },
  {
   "cell_type": "code",
   "execution_count": 74,
   "metadata": {},
   "outputs": [],
   "source": [
    "# Making the copy\n",
    "df1=df.copy()"
   ]
  },
  {
   "cell_type": "code",
   "execution_count": 75,
   "metadata": {},
   "outputs": [],
   "source": [
    "# dropping the unnecessary columns\n",
    "df1=df1.drop(['Gender','Business','Dependancies','Calls','Type','Billing','Rating','Age','Base_pay','Bonus','Volume',\n",
    "              'openingbalance','closingbalance','Unit_Sales','Total_Sales'],axis=1)"
   ]
  },
  {
   "cell_type": "code",
   "execution_count": 76,
   "metadata": {},
   "outputs": [],
   "source": [
    "# rearranging the columns\n",
    "\n",
    "df1=df1[['Salary','Unit_Price','low','Base_pay+Bonus','Total_sales+Unit_Sales','Months', 'Education']]"
   ]
  },
  {
   "cell_type": "code",
   "execution_count": 78,
   "metadata": {},
   "outputs": [
    {
     "data": {
      "text/html": [
       "<div>\n",
       "<style scoped>\n",
       "    .dataframe tbody tr th:only-of-type {\n",
       "        vertical-align: middle;\n",
       "    }\n",
       "\n",
       "    .dataframe tbody tr th {\n",
       "        vertical-align: top;\n",
       "    }\n",
       "\n",
       "    .dataframe thead th {\n",
       "        text-align: right;\n",
       "    }\n",
       "</style>\n",
       "<table border=\"1\" class=\"dataframe\">\n",
       "  <thead>\n",
       "    <tr style=\"text-align: right;\">\n",
       "      <th></th>\n",
       "      <th>Salary</th>\n",
       "      <th>Unit_Price</th>\n",
       "      <th>low</th>\n",
       "      <th>Base_pay+Bonus</th>\n",
       "      <th>Total_sales+Unit_Sales</th>\n",
       "      <th>Months</th>\n",
       "      <th>Education</th>\n",
       "    </tr>\n",
       "  </thead>\n",
       "  <tbody>\n",
       "    <tr>\n",
       "      <th>0</th>\n",
       "      <td>34357.708738</td>\n",
       "      <td>2.009858</td>\n",
       "      <td>1.815007</td>\n",
       "      <td>7965.342025</td>\n",
       "      <td>18.525</td>\n",
       "      <td>0</td>\n",
       "      <td>High School or less</td>\n",
       "    </tr>\n",
       "    <tr>\n",
       "      <th>1</th>\n",
       "      <td>34357.708738</td>\n",
       "      <td>2.009858</td>\n",
       "      <td>1.815007</td>\n",
       "      <td>7965.342025</td>\n",
       "      <td>18.625</td>\n",
       "      <td>0</td>\n",
       "      <td>High School or less</td>\n",
       "    </tr>\n",
       "    <tr>\n",
       "      <th>2</th>\n",
       "      <td>34357.708738</td>\n",
       "      <td>2.009858</td>\n",
       "      <td>1.815007</td>\n",
       "      <td>7965.342025</td>\n",
       "      <td>18.800</td>\n",
       "      <td>0</td>\n",
       "      <td>High School or less</td>\n",
       "    </tr>\n",
       "    <tr>\n",
       "      <th>3</th>\n",
       "      <td>34357.708738</td>\n",
       "      <td>2.009858</td>\n",
       "      <td>1.815007</td>\n",
       "      <td>7965.342025</td>\n",
       "      <td>18.875</td>\n",
       "      <td>0</td>\n",
       "      <td>High School or less</td>\n",
       "    </tr>\n",
       "    <tr>\n",
       "      <th>4</th>\n",
       "      <td>34357.708738</td>\n",
       "      <td>2.009858</td>\n",
       "      <td>1.815007</td>\n",
       "      <td>7965.342025</td>\n",
       "      <td>18.925</td>\n",
       "      <td>1</td>\n",
       "      <td>High School or less</td>\n",
       "    </tr>\n",
       "  </tbody>\n",
       "</table>\n",
       "</div>"
      ],
      "text/plain": [
       "         Salary  Unit_Price       low  Base_pay+Bonus  Total_sales+Unit_Sales  \\\n",
       "0  34357.708738    2.009858  1.815007     7965.342025                  18.525   \n",
       "1  34357.708738    2.009858  1.815007     7965.342025                  18.625   \n",
       "2  34357.708738    2.009858  1.815007     7965.342025                  18.800   \n",
       "3  34357.708738    2.009858  1.815007     7965.342025                  18.875   \n",
       "4  34357.708738    2.009858  1.815007     7965.342025                  18.925   \n",
       "\n",
       "   Months            Education  \n",
       "0       0  High School or less  \n",
       "1       0  High School or less  \n",
       "2       0  High School or less  \n",
       "3       0  High School or less  \n",
       "4       1  High School or less  "
      ]
     },
     "execution_count": 78,
     "metadata": {},
     "output_type": "execute_result"
    }
   ],
   "source": [
    "df1.head()"
   ]
  },
  {
   "cell_type": "code",
   "execution_count": 79,
   "metadata": {},
   "outputs": [],
   "source": [
    "#converting the categorical variable into numerical values for the model\n",
    "\n",
    "df1['Education']=df1['Education'].map({'High School or less':0, 'Intermediate':1,'Graduation':2, 'PG':3})"
   ]
  },
  {
   "cell_type": "code",
   "execution_count": 80,
   "metadata": {
    "scrolled": false
   },
   "outputs": [
    {
     "data": {
      "text/html": [
       "<div>\n",
       "<style scoped>\n",
       "    .dataframe tbody tr th:only-of-type {\n",
       "        vertical-align: middle;\n",
       "    }\n",
       "\n",
       "    .dataframe tbody tr th {\n",
       "        vertical-align: top;\n",
       "    }\n",
       "\n",
       "    .dataframe thead th {\n",
       "        text-align: right;\n",
       "    }\n",
       "</style>\n",
       "<table border=\"1\" class=\"dataframe\">\n",
       "  <thead>\n",
       "    <tr style=\"text-align: right;\">\n",
       "      <th></th>\n",
       "      <th>Salary</th>\n",
       "      <th>Unit_Price</th>\n",
       "      <th>low</th>\n",
       "      <th>Base_pay+Bonus</th>\n",
       "      <th>Total_sales+Unit_Sales</th>\n",
       "      <th>Months</th>\n",
       "      <th>Education</th>\n",
       "    </tr>\n",
       "  </thead>\n",
       "  <tbody>\n",
       "    <tr>\n",
       "      <th>0</th>\n",
       "      <td>34357.708738</td>\n",
       "      <td>2.009858</td>\n",
       "      <td>1.815007</td>\n",
       "      <td>7965.342025</td>\n",
       "      <td>18.525</td>\n",
       "      <td>0</td>\n",
       "      <td>0</td>\n",
       "    </tr>\n",
       "    <tr>\n",
       "      <th>1</th>\n",
       "      <td>34357.708738</td>\n",
       "      <td>2.009858</td>\n",
       "      <td>1.815007</td>\n",
       "      <td>7965.342025</td>\n",
       "      <td>18.625</td>\n",
       "      <td>0</td>\n",
       "      <td>0</td>\n",
       "    </tr>\n",
       "    <tr>\n",
       "      <th>2</th>\n",
       "      <td>34357.708738</td>\n",
       "      <td>2.009858</td>\n",
       "      <td>1.815007</td>\n",
       "      <td>7965.342025</td>\n",
       "      <td>18.800</td>\n",
       "      <td>0</td>\n",
       "      <td>0</td>\n",
       "    </tr>\n",
       "    <tr>\n",
       "      <th>3</th>\n",
       "      <td>34357.708738</td>\n",
       "      <td>2.009858</td>\n",
       "      <td>1.815007</td>\n",
       "      <td>7965.342025</td>\n",
       "      <td>18.875</td>\n",
       "      <td>0</td>\n",
       "      <td>0</td>\n",
       "    </tr>\n",
       "    <tr>\n",
       "      <th>4</th>\n",
       "      <td>34357.708738</td>\n",
       "      <td>2.009858</td>\n",
       "      <td>1.815007</td>\n",
       "      <td>7965.342025</td>\n",
       "      <td>18.925</td>\n",
       "      <td>1</td>\n",
       "      <td>0</td>\n",
       "    </tr>\n",
       "  </tbody>\n",
       "</table>\n",
       "</div>"
      ],
      "text/plain": [
       "         Salary  Unit_Price       low  Base_pay+Bonus  Total_sales+Unit_Sales  \\\n",
       "0  34357.708738    2.009858  1.815007     7965.342025                  18.525   \n",
       "1  34357.708738    2.009858  1.815007     7965.342025                  18.625   \n",
       "2  34357.708738    2.009858  1.815007     7965.342025                  18.800   \n",
       "3  34357.708738    2.009858  1.815007     7965.342025                  18.875   \n",
       "4  34357.708738    2.009858  1.815007     7965.342025                  18.925   \n",
       "\n",
       "   Months  Education  \n",
       "0       0          0  \n",
       "1       0          0  \n",
       "2       0          0  \n",
       "3       0          0  \n",
       "4       1          0  "
      ]
     },
     "execution_count": 80,
     "metadata": {},
     "output_type": "execute_result"
    }
   ],
   "source": [
    "df1.head()"
   ]
  },
  {
   "cell_type": "markdown",
   "metadata": {},
   "source": [
    "## Feature Scaling with Standardization"
   ]
  },
  {
   "cell_type": "code",
   "execution_count": 81,
   "metadata": {},
   "outputs": [],
   "source": [
    "# using standard scalar for scaling data into same range with mean is 0 and std daviation 1b\n",
    "from sklearn.preprocessing import StandardScaler\n",
    "sc = StandardScaler()\n",
    "df1.loc[:,'Salary':'Months'] = sc.fit_transform(df1.loc[:,'Salary':'Months'])"
   ]
  },
  {
   "cell_type": "code",
   "execution_count": 82,
   "metadata": {
    "scrolled": false
   },
   "outputs": [
    {
     "data": {
      "text/html": [
       "<div>\n",
       "<style scoped>\n",
       "    .dataframe tbody tr th:only-of-type {\n",
       "        vertical-align: middle;\n",
       "    }\n",
       "\n",
       "    .dataframe tbody tr th {\n",
       "        vertical-align: top;\n",
       "    }\n",
       "\n",
       "    .dataframe thead th {\n",
       "        text-align: right;\n",
       "    }\n",
       "</style>\n",
       "<table border=\"1\" class=\"dataframe\">\n",
       "  <thead>\n",
       "    <tr style=\"text-align: right;\">\n",
       "      <th></th>\n",
       "      <th>Salary</th>\n",
       "      <th>Unit_Price</th>\n",
       "      <th>low</th>\n",
       "      <th>Base_pay+Bonus</th>\n",
       "      <th>Total_sales+Unit_Sales</th>\n",
       "      <th>Months</th>\n",
       "      <th>Education</th>\n",
       "    </tr>\n",
       "  </thead>\n",
       "  <tbody>\n",
       "    <tr>\n",
       "      <th>0</th>\n",
       "      <td>-2.689645</td>\n",
       "      <td>-2.495017</td>\n",
       "      <td>-2.509915</td>\n",
       "      <td>-2.680406</td>\n",
       "      <td>-1.002637</td>\n",
       "      <td>-1.306505</td>\n",
       "      <td>0</td>\n",
       "    </tr>\n",
       "    <tr>\n",
       "      <th>1</th>\n",
       "      <td>-2.689645</td>\n",
       "      <td>-2.495017</td>\n",
       "      <td>-2.509915</td>\n",
       "      <td>-2.680406</td>\n",
       "      <td>-1.002550</td>\n",
       "      <td>-1.306505</td>\n",
       "      <td>0</td>\n",
       "    </tr>\n",
       "    <tr>\n",
       "      <th>2</th>\n",
       "      <td>-2.689645</td>\n",
       "      <td>-2.495017</td>\n",
       "      <td>-2.509915</td>\n",
       "      <td>-2.680406</td>\n",
       "      <td>-1.002397</td>\n",
       "      <td>-1.306505</td>\n",
       "      <td>0</td>\n",
       "    </tr>\n",
       "    <tr>\n",
       "      <th>3</th>\n",
       "      <td>-2.689645</td>\n",
       "      <td>-2.495017</td>\n",
       "      <td>-2.509915</td>\n",
       "      <td>-2.680406</td>\n",
       "      <td>-1.002332</td>\n",
       "      <td>-1.306505</td>\n",
       "      <td>0</td>\n",
       "    </tr>\n",
       "    <tr>\n",
       "      <th>4</th>\n",
       "      <td>-2.689645</td>\n",
       "      <td>-2.495017</td>\n",
       "      <td>-2.509915</td>\n",
       "      <td>-2.680406</td>\n",
       "      <td>-1.002288</td>\n",
       "      <td>-1.265911</td>\n",
       "      <td>0</td>\n",
       "    </tr>\n",
       "    <tr>\n",
       "      <th>...</th>\n",
       "      <td>...</td>\n",
       "      <td>...</td>\n",
       "      <td>...</td>\n",
       "      <td>...</td>\n",
       "      <td>...</td>\n",
       "      <td>...</td>\n",
       "      <td>...</td>\n",
       "    </tr>\n",
       "    <tr>\n",
       "      <th>4995</th>\n",
       "      <td>2.717005</td>\n",
       "      <td>2.464186</td>\n",
       "      <td>2.477506</td>\n",
       "      <td>2.704125</td>\n",
       "      <td>-0.358292</td>\n",
       "      <td>1.616253</td>\n",
       "      <td>3</td>\n",
       "    </tr>\n",
       "    <tr>\n",
       "      <th>4996</th>\n",
       "      <td>2.717005</td>\n",
       "      <td>2.464186</td>\n",
       "      <td>2.477506</td>\n",
       "      <td>2.704125</td>\n",
       "      <td>-0.357943</td>\n",
       "      <td>1.616253</td>\n",
       "      <td>3</td>\n",
       "    </tr>\n",
       "    <tr>\n",
       "      <th>4997</th>\n",
       "      <td>2.717005</td>\n",
       "      <td>2.464186</td>\n",
       "      <td>2.477506</td>\n",
       "      <td>2.704125</td>\n",
       "      <td>-0.357943</td>\n",
       "      <td>1.616253</td>\n",
       "      <td>3</td>\n",
       "    </tr>\n",
       "    <tr>\n",
       "      <th>4998</th>\n",
       "      <td>2.717005</td>\n",
       "      <td>2.464186</td>\n",
       "      <td>2.477506</td>\n",
       "      <td>2.704125</td>\n",
       "      <td>-0.357921</td>\n",
       "      <td>1.616253</td>\n",
       "      <td>3</td>\n",
       "    </tr>\n",
       "    <tr>\n",
       "      <th>4999</th>\n",
       "      <td>2.717005</td>\n",
       "      <td>2.464186</td>\n",
       "      <td>2.477506</td>\n",
       "      <td>2.704125</td>\n",
       "      <td>-0.357877</td>\n",
       "      <td>1.616253</td>\n",
       "      <td>3</td>\n",
       "    </tr>\n",
       "  </tbody>\n",
       "</table>\n",
       "<p>5000 rows × 7 columns</p>\n",
       "</div>"
      ],
      "text/plain": [
       "        Salary  Unit_Price       low  Base_pay+Bonus  Total_sales+Unit_Sales  \\\n",
       "0    -2.689645   -2.495017 -2.509915       -2.680406               -1.002637   \n",
       "1    -2.689645   -2.495017 -2.509915       -2.680406               -1.002550   \n",
       "2    -2.689645   -2.495017 -2.509915       -2.680406               -1.002397   \n",
       "3    -2.689645   -2.495017 -2.509915       -2.680406               -1.002332   \n",
       "4    -2.689645   -2.495017 -2.509915       -2.680406               -1.002288   \n",
       "...        ...         ...       ...             ...                     ...   \n",
       "4995  2.717005    2.464186  2.477506        2.704125               -0.358292   \n",
       "4996  2.717005    2.464186  2.477506        2.704125               -0.357943   \n",
       "4997  2.717005    2.464186  2.477506        2.704125               -0.357943   \n",
       "4998  2.717005    2.464186  2.477506        2.704125               -0.357921   \n",
       "4999  2.717005    2.464186  2.477506        2.704125               -0.357877   \n",
       "\n",
       "        Months  Education  \n",
       "0    -1.306505          0  \n",
       "1    -1.306505          0  \n",
       "2    -1.306505          0  \n",
       "3    -1.306505          0  \n",
       "4    -1.265911          0  \n",
       "...        ...        ...  \n",
       "4995  1.616253          3  \n",
       "4996  1.616253          3  \n",
       "4997  1.616253          3  \n",
       "4998  1.616253          3  \n",
       "4999  1.616253          3  \n",
       "\n",
       "[5000 rows x 7 columns]"
      ]
     },
     "execution_count": 82,
     "metadata": {},
     "output_type": "execute_result"
    }
   ],
   "source": [
    "df1"
   ]
  },
  {
   "cell_type": "markdown",
   "metadata": {},
   "source": [
    "## Feature Engineering"
   ]
  },
  {
   "cell_type": "code",
   "execution_count": 85,
   "metadata": {},
   "outputs": [],
   "source": [
    "# selecting X, y for the model\n",
    "X= df1.drop(['Salary'], axis=1)\n",
    "y=df1['Salary']"
   ]
  },
  {
   "cell_type": "code",
   "execution_count": 86,
   "metadata": {},
   "outputs": [],
   "source": [
    "# importing train_test_split for splitting the data\n",
    "from sklearn.model_selection import train_test_split"
   ]
  },
  {
   "cell_type": "code",
   "execution_count": 87,
   "metadata": {},
   "outputs": [
    {
     "name": "stdout",
     "output_type": "stream",
     "text": [
      "(3500, 6)\n",
      "(1500, 6)\n",
      "(3500,)\n",
      "(1500,)\n"
     ]
    }
   ],
   "source": [
    "# spliting into test train values with tes size 30%\n",
    "\n",
    "X_train, X_test, y_train, y_test = train_test_split(X, y, test_size=0.30, random_state=42)\n",
    "print(X_train.shape)\n",
    "print(X_test.shape)\n",
    "print(y_train.shape)\n",
    "print(y_test.shape)"
   ]
  },
  {
   "cell_type": "code",
   "execution_count": 88,
   "metadata": {},
   "outputs": [
    {
     "data": {
      "text/html": [
       "<div>\n",
       "<style scoped>\n",
       "    .dataframe tbody tr th:only-of-type {\n",
       "        vertical-align: middle;\n",
       "    }\n",
       "\n",
       "    .dataframe tbody tr th {\n",
       "        vertical-align: top;\n",
       "    }\n",
       "\n",
       "    .dataframe thead th {\n",
       "        text-align: right;\n",
       "    }\n",
       "</style>\n",
       "<table border=\"1\" class=\"dataframe\">\n",
       "  <thead>\n",
       "    <tr style=\"text-align: right;\">\n",
       "      <th></th>\n",
       "      <th>Unit_Price</th>\n",
       "      <th>low</th>\n",
       "      <th>Base_pay+Bonus</th>\n",
       "      <th>Total_sales+Unit_Sales</th>\n",
       "      <th>Months</th>\n",
       "      <th>Education</th>\n",
       "    </tr>\n",
       "  </thead>\n",
       "  <tbody>\n",
       "    <tr>\n",
       "      <th>1840</th>\n",
       "      <td>-0.534662</td>\n",
       "      <td>-0.316809</td>\n",
       "      <td>-0.311228</td>\n",
       "      <td>-0.638982</td>\n",
       "      <td>-1.184724</td>\n",
       "      <td>3</td>\n",
       "    </tr>\n",
       "    <tr>\n",
       "      <th>2115</th>\n",
       "      <td>2.464186</td>\n",
       "      <td>-0.186817</td>\n",
       "      <td>-0.170053</td>\n",
       "      <td>-0.535373</td>\n",
       "      <td>-1.022348</td>\n",
       "      <td>2</td>\n",
       "    </tr>\n",
       "    <tr>\n",
       "      <th>4437</th>\n",
       "      <td>1.140251</td>\n",
       "      <td>1.263457</td>\n",
       "      <td>1.201277</td>\n",
       "      <td>1.568111</td>\n",
       "      <td>1.332096</td>\n",
       "      <td>3</td>\n",
       "    </tr>\n",
       "    <tr>\n",
       "      <th>1146</th>\n",
       "      <td>-0.943254</td>\n",
       "      <td>-0.707907</td>\n",
       "      <td>-0.741363</td>\n",
       "      <td>-0.865358</td>\n",
       "      <td>1.413283</td>\n",
       "      <td>2</td>\n",
       "    </tr>\n",
       "    <tr>\n",
       "      <th>2486</th>\n",
       "      <td>0.809083</td>\n",
       "      <td>-0.017549</td>\n",
       "      <td>0.004403</td>\n",
       "      <td>-0.382579</td>\n",
       "      <td>-0.819379</td>\n",
       "      <td>2</td>\n",
       "    </tr>\n",
       "    <tr>\n",
       "      <th>...</th>\n",
       "      <td>...</td>\n",
       "      <td>...</td>\n",
       "      <td>...</td>\n",
       "      <td>...</td>\n",
       "      <td>...</td>\n",
       "      <td>...</td>\n",
       "    </tr>\n",
       "    <tr>\n",
       "      <th>4426</th>\n",
       "      <td>1.036612</td>\n",
       "      <td>1.236983</td>\n",
       "      <td>1.188490</td>\n",
       "      <td>1.560692</td>\n",
       "      <td>1.332096</td>\n",
       "      <td>3</td>\n",
       "    </tr>\n",
       "    <tr>\n",
       "      <th>466</th>\n",
       "      <td>-1.527247</td>\n",
       "      <td>-1.291920</td>\n",
       "      <td>-1.345024</td>\n",
       "      <td>-0.975251</td>\n",
       "      <td>-0.657004</td>\n",
       "      <td>3</td>\n",
       "    </tr>\n",
       "    <tr>\n",
       "      <th>3092</th>\n",
       "      <td>0.058276</td>\n",
       "      <td>0.268658</td>\n",
       "      <td>0.309007</td>\n",
       "      <td>-0.022961</td>\n",
       "      <td>-0.251065</td>\n",
       "      <td>2</td>\n",
       "    </tr>\n",
       "    <tr>\n",
       "      <th>3772</th>\n",
       "      <td>-0.624695</td>\n",
       "      <td>0.619652</td>\n",
       "      <td>0.696603</td>\n",
       "      <td>0.699201</td>\n",
       "      <td>0.560812</td>\n",
       "      <td>3</td>\n",
       "    </tr>\n",
       "    <tr>\n",
       "      <th>860</th>\n",
       "      <td>-0.781008</td>\n",
       "      <td>-0.922830</td>\n",
       "      <td>-0.934521</td>\n",
       "      <td>-0.920087</td>\n",
       "      <td>0.560812</td>\n",
       "      <td>3</td>\n",
       "    </tr>\n",
       "  </tbody>\n",
       "</table>\n",
       "<p>3500 rows × 6 columns</p>\n",
       "</div>"
      ],
      "text/plain": [
       "      Unit_Price       low  Base_pay+Bonus  Total_sales+Unit_Sales    Months  \\\n",
       "1840   -0.534662 -0.316809       -0.311228               -0.638982 -1.184724   \n",
       "2115    2.464186 -0.186817       -0.170053               -0.535373 -1.022348   \n",
       "4437    1.140251  1.263457        1.201277                1.568111  1.332096   \n",
       "1146   -0.943254 -0.707907       -0.741363               -0.865358  1.413283   \n",
       "2486    0.809083 -0.017549        0.004403               -0.382579 -0.819379   \n",
       "...          ...       ...             ...                     ...       ...   \n",
       "4426    1.036612  1.236983        1.188490                1.560692  1.332096   \n",
       "466    -1.527247 -1.291920       -1.345024               -0.975251 -0.657004   \n",
       "3092    0.058276  0.268658        0.309007               -0.022961 -0.251065   \n",
       "3772   -0.624695  0.619652        0.696603                0.699201  0.560812   \n",
       "860    -0.781008 -0.922830       -0.934521               -0.920087  0.560812   \n",
       "\n",
       "      Education  \n",
       "1840          3  \n",
       "2115          2  \n",
       "4437          3  \n",
       "1146          2  \n",
       "2486          2  \n",
       "...         ...  \n",
       "4426          3  \n",
       "466           3  \n",
       "3092          2  \n",
       "3772          3  \n",
       "860           3  \n",
       "\n",
       "[3500 rows x 6 columns]"
      ]
     },
     "execution_count": 88,
     "metadata": {},
     "output_type": "execute_result"
    }
   ],
   "source": [
    "X_train"
   ]
  },
  {
   "cell_type": "code",
   "execution_count": 89,
   "metadata": {},
   "outputs": [
    {
     "data": {
      "text/html": [
       "<div>\n",
       "<style scoped>\n",
       "    .dataframe tbody tr th:only-of-type {\n",
       "        vertical-align: middle;\n",
       "    }\n",
       "\n",
       "    .dataframe tbody tr th {\n",
       "        vertical-align: top;\n",
       "    }\n",
       "\n",
       "    .dataframe thead th {\n",
       "        text-align: right;\n",
       "    }\n",
       "</style>\n",
       "<table border=\"1\" class=\"dataframe\">\n",
       "  <thead>\n",
       "    <tr style=\"text-align: right;\">\n",
       "      <th></th>\n",
       "      <th>Unit_Price</th>\n",
       "      <th>low</th>\n",
       "      <th>Base_pay+Bonus</th>\n",
       "      <th>Total_sales+Unit_Sales</th>\n",
       "      <th>Months</th>\n",
       "      <th>Education</th>\n",
       "    </tr>\n",
       "  </thead>\n",
       "  <tbody>\n",
       "    <tr>\n",
       "      <th>1501</th>\n",
       "      <td>-0.694732</td>\n",
       "      <td>-0.467277</td>\n",
       "      <td>-0.515374</td>\n",
       "      <td>-0.761139</td>\n",
       "      <td>-1.265911</td>\n",
       "      <td>2</td>\n",
       "    </tr>\n",
       "    <tr>\n",
       "      <th>2586</th>\n",
       "      <td>-0.188386</td>\n",
       "      <td>0.010840</td>\n",
       "      <td>0.056737</td>\n",
       "      <td>-0.346050</td>\n",
       "      <td>-0.697597</td>\n",
       "      <td>2</td>\n",
       "    </tr>\n",
       "    <tr>\n",
       "      <th>2653</th>\n",
       "      <td>-0.149001</td>\n",
       "      <td>0.070684</td>\n",
       "      <td>0.090970</td>\n",
       "      <td>-0.311135</td>\n",
       "      <td>-0.657004</td>\n",
       "      <td>3</td>\n",
       "    </tr>\n",
       "    <tr>\n",
       "      <th>1055</th>\n",
       "      <td>-1.003218</td>\n",
       "      <td>-0.765407</td>\n",
       "      <td>-0.799749</td>\n",
       "      <td>-0.883710</td>\n",
       "      <td>1.210314</td>\n",
       "      <td>2</td>\n",
       "    </tr>\n",
       "    <tr>\n",
       "      <th>705</th>\n",
       "      <td>-0.263084</td>\n",
       "      <td>-1.038780</td>\n",
       "      <td>-1.060098</td>\n",
       "      <td>-0.944396</td>\n",
       "      <td>-0.007502</td>\n",
       "      <td>2</td>\n",
       "    </tr>\n",
       "    <tr>\n",
       "      <th>...</th>\n",
       "      <td>...</td>\n",
       "      <td>...</td>\n",
       "      <td>...</td>\n",
       "      <td>...</td>\n",
       "      <td>...</td>\n",
       "      <td>...</td>\n",
       "    </tr>\n",
       "    <tr>\n",
       "      <th>3563</th>\n",
       "      <td>0.328413</td>\n",
       "      <td>0.540699</td>\n",
       "      <td>0.582129</td>\n",
       "      <td>0.434026</td>\n",
       "      <td>0.317249</td>\n",
       "      <td>2</td>\n",
       "    </tr>\n",
       "    <tr>\n",
       "      <th>1538</th>\n",
       "      <td>-0.667040</td>\n",
       "      <td>-0.451583</td>\n",
       "      <td>-0.485926</td>\n",
       "      <td>-0.749639</td>\n",
       "      <td>-1.265911</td>\n",
       "      <td>2</td>\n",
       "    </tr>\n",
       "    <tr>\n",
       "      <th>1837</th>\n",
       "      <td>-0.555561</td>\n",
       "      <td>-0.333901</td>\n",
       "      <td>-0.312036</td>\n",
       "      <td>-0.639898</td>\n",
       "      <td>-1.184724</td>\n",
       "      <td>3</td>\n",
       "    </tr>\n",
       "    <tr>\n",
       "      <th>2380</th>\n",
       "      <td>-0.178012</td>\n",
       "      <td>-0.055990</td>\n",
       "      <td>-0.049703</td>\n",
       "      <td>-0.427619</td>\n",
       "      <td>-0.859973</td>\n",
       "      <td>2</td>\n",
       "    </tr>\n",
       "    <tr>\n",
       "      <th>1912</th>\n",
       "      <td>-0.447656</td>\n",
       "      <td>-0.296008</td>\n",
       "      <td>-0.266690</td>\n",
       "      <td>-0.617291</td>\n",
       "      <td>-1.144130</td>\n",
       "      <td>2</td>\n",
       "    </tr>\n",
       "  </tbody>\n",
       "</table>\n",
       "<p>1500 rows × 6 columns</p>\n",
       "</div>"
      ],
      "text/plain": [
       "      Unit_Price       low  Base_pay+Bonus  Total_sales+Unit_Sales    Months  \\\n",
       "1501   -0.694732 -0.467277       -0.515374               -0.761139 -1.265911   \n",
       "2586   -0.188386  0.010840        0.056737               -0.346050 -0.697597   \n",
       "2653   -0.149001  0.070684        0.090970               -0.311135 -0.657004   \n",
       "1055   -1.003218 -0.765407       -0.799749               -0.883710  1.210314   \n",
       "705    -0.263084 -1.038780       -1.060098               -0.944396 -0.007502   \n",
       "...          ...       ...             ...                     ...       ...   \n",
       "3563    0.328413  0.540699        0.582129                0.434026  0.317249   \n",
       "1538   -0.667040 -0.451583       -0.485926               -0.749639 -1.265911   \n",
       "1837   -0.555561 -0.333901       -0.312036               -0.639898 -1.184724   \n",
       "2380   -0.178012 -0.055990       -0.049703               -0.427619 -0.859973   \n",
       "1912   -0.447656 -0.296008       -0.266690               -0.617291 -1.144130   \n",
       "\n",
       "      Education  \n",
       "1501          2  \n",
       "2586          2  \n",
       "2653          3  \n",
       "1055          2  \n",
       "705           2  \n",
       "...         ...  \n",
       "3563          2  \n",
       "1538          2  \n",
       "1837          3  \n",
       "2380          2  \n",
       "1912          2  \n",
       "\n",
       "[1500 rows x 6 columns]"
      ]
     },
     "execution_count": 89,
     "metadata": {},
     "output_type": "execute_result"
    }
   ],
   "source": [
    "X_test"
   ]
  },
  {
   "cell_type": "markdown",
   "metadata": {},
   "source": [
    "## Applying ML Algorithms"
   ]
  },
  {
   "cell_type": "markdown",
   "metadata": {},
   "source": [
    "### 1. Linear Regression"
   ]
  },
  {
   "cell_type": "code",
   "execution_count": 90,
   "metadata": {},
   "outputs": [
    {
     "data": {
      "text/plain": [
       "LinearRegression(copy_X=True, fit_intercept=True, n_jobs=None, normalize=False)"
      ]
     },
     "execution_count": 90,
     "metadata": {},
     "output_type": "execute_result"
    }
   ],
   "source": [
    "# importing LinearRegression from sklearn\n",
    "from sklearn.linear_model import LinearRegression\n",
    "from sklearn.metrics import mean_squared_error\n",
    "from sklearn.metrics import r2_score\n",
    "reg = LinearRegression()\n",
    "#fitting training set\n",
    "reg.fit(X_train, y_train)"
   ]
  },
  {
   "cell_type": "code",
   "execution_count": 91,
   "metadata": {
    "scrolled": true
   },
   "outputs": [
    {
     "name": "stdout",
     "output_type": "stream",
     "text": [
      "The Model Performance  for training  set\n",
      "----------------------------------------\n",
      "RMSE is 0.062361972033090365\n",
      "R2 score is0.9960369578961908\n",
      "\n",
      "\n",
      "The Model Performance  for testing  set\n",
      "----------------------------------------\n",
      "RMSE is 0.06377213955686772\n",
      "R2 score is0.9960992659197011\n"
     ]
    }
   ],
   "source": [
    "# model evalution for training set\n",
    "y_train_predict = reg.predict(X_train)\n",
    "rmse=(np.sqrt(mean_squared_error(y_train, y_train_predict)))\n",
    "r2= r2_score(y_train,y_train_predict)\n",
    "\n",
    "print(\"The Model Performance  for training  set\")\n",
    "print(\"----------------------------------------\")\n",
    "print(f'RMSE is {rmse}')\n",
    "print(f'R2 score is{r2}')\n",
    "print(\"\\n\")\n",
    "\n",
    "# model evalution for testing set\n",
    "y_test_predict = reg.predict(X_test)\n",
    "rmse=(np.sqrt(mean_squared_error(y_test, y_test_predict)))\n",
    "r2= r2_score(y_test,y_test_predict)\n",
    "\n",
    "print(\"The Model Performance  for testing  set\")\n",
    "print(\"----------------------------------------\")\n",
    "print(f'RMSE is {rmse}')\n",
    "print(f'R2 score is{r2}')"
   ]
  },
  {
   "cell_type": "markdown",
   "metadata": {},
   "source": [
    "**accuracy for both training and testing data is same 99% but RMSE is greater for Testing set. This indicates the overfitting of the model**"
   ]
  },
  {
   "cell_type": "markdown",
   "metadata": {},
   "source": [
    "### Cross-validation of Linear Regression Model"
   ]
  },
  {
   "cell_type": "code",
   "execution_count": 92,
   "metadata": {},
   "outputs": [
    {
     "name": "stdout",
     "output_type": "stream",
     "text": [
      "[99.56890906 99.49030969 99.60292667 99.61454656 99.65739024 99.5759228\n",
      " 99.59338041 99.57141025 99.62290601 99.60239487]\n"
     ]
    }
   ],
   "source": [
    "# imorting shufflespli from the sklearn\n",
    "from sklearn.model_selection import ShuffleSplit\n",
    "model=LinearRegression()\n",
    "rs = ShuffleSplit(n_splits=10, test_size=.30, random_state=0)\n",
    "from sklearn.model_selection import cross_val_score\n",
    "results=cross_val_score(model,X,y,cv=rs)*100\n",
    "print(results)"
   ]
  },
  {
   "cell_type": "markdown",
   "metadata": {},
   "source": [
    "**All the results are same, model is performing well**"
   ]
  },
  {
   "cell_type": "markdown",
   "metadata": {},
   "source": [
    "### 2. Decision Tree"
   ]
  },
  {
   "cell_type": "code",
   "execution_count": 93,
   "metadata": {},
   "outputs": [
    {
     "data": {
      "text/plain": [
       "DecisionTreeRegressor(ccp_alpha=0.0, criterion='mse', max_depth=3,\n",
       "                      max_features=None, max_leaf_nodes=None,\n",
       "                      min_impurity_decrease=0.0, min_impurity_split=None,\n",
       "                      min_samples_leaf=1, min_samples_split=2,\n",
       "                      min_weight_fraction_leaf=0.0, presort='deprecated',\n",
       "                      random_state=None, splitter='best')"
      ]
     },
     "execution_count": 93,
     "metadata": {},
     "output_type": "execute_result"
    }
   ],
   "source": [
    "from sklearn.tree import DecisionTreeRegressor\n",
    "DTR= DecisionTreeRegressor(max_depth=3)\n",
    "DTR.fit(X_train, y_train)"
   ]
  },
  {
   "cell_type": "code",
   "execution_count": 94,
   "metadata": {
    "scrolled": false
   },
   "outputs": [
    {
     "name": "stdout",
     "output_type": "stream",
     "text": [
      "score of the train model 0.9681733744962812\n",
      "score of the test model 0.9679516889648287\n"
     ]
    }
   ],
   "source": [
    "print(f'score of the train model {DTR.score(X_train,y_train)}')\n",
    "print(f'score of the test model {DTR.score(X_test,y_test)}')"
   ]
  },
  {
   "cell_type": "markdown",
   "metadata": {},
   "source": [
    "**accuracy of the decision tree model is 96%**"
   ]
  },
  {
   "cell_type": "code",
   "execution_count": 95,
   "metadata": {},
   "outputs": [],
   "source": [
    "y_test_predict = DTR.predict(X_test)"
   ]
  },
  {
   "cell_type": "code",
   "execution_count": 96,
   "metadata": {},
   "outputs": [
    {
     "data": {
      "text/plain": [
       "array([-0.26117388,  0.19191288,  0.19191288, ..., -0.26117388,\n",
       "       -0.26117388, -0.26117388])"
      ]
     },
     "execution_count": 96,
     "metadata": {},
     "output_type": "execute_result"
    }
   ],
   "source": [
    "y_test_predict"
   ]
  },
  {
   "cell_type": "code",
   "execution_count": 97,
   "metadata": {},
   "outputs": [
    {
     "data": {
      "text/plain": [
       "DecisionTreeRegressor(ccp_alpha=0.0, criterion='mse', max_depth=4,\n",
       "                      max_features=None, max_leaf_nodes=None,\n",
       "                      min_impurity_decrease=0.0, min_impurity_split=None,\n",
       "                      min_samples_leaf=1, min_samples_split=2,\n",
       "                      min_weight_fraction_leaf=0.0, presort='deprecated',\n",
       "                      random_state=None, splitter='best')"
      ]
     },
     "execution_count": 97,
     "metadata": {},
     "output_type": "execute_result"
    }
   ],
   "source": [
    "# checking with max_depth=4\n",
    "DTR= DecisionTreeRegressor(max_depth=4)\n",
    "DTR.fit(X_train, y_train)"
   ]
  },
  {
   "cell_type": "code",
   "execution_count": 98,
   "metadata": {
    "scrolled": true
   },
   "outputs": [
    {
     "name": "stdout",
     "output_type": "stream",
     "text": [
      "score of the train model 0.9923823996309444\n",
      "score of the test model 0.9917116706503792\n"
     ]
    }
   ],
   "source": [
    "print(f'score of the train model {DTR.score(X_train,y_train)}')\n",
    "print(f'score of the test model {DTR.score(X_test,y_test)}')"
   ]
  },
  {
   "cell_type": "markdown",
   "metadata": {},
   "source": [
    "**Accuracy increases with increasing max depth but model has four independant variable, there is possibility of overfitting with max_depth 4** "
   ]
  },
  {
   "cell_type": "code",
   "execution_count": 99,
   "metadata": {},
   "outputs": [
    {
     "data": {
      "text/plain": [
       "array([-0.26117388,  0.19191288,  0.19191288, ..., -0.26117388,\n",
       "       -0.26117388, -0.26117388])"
      ]
     },
     "execution_count": 99,
     "metadata": {},
     "output_type": "execute_result"
    }
   ],
   "source": [
    "y_test_predict"
   ]
  },
  {
   "cell_type": "markdown",
   "metadata": {},
   "source": [
    "### Cross-validation of Decision Tree model "
   ]
  },
  {
   "cell_type": "code",
   "execution_count": 100,
   "metadata": {
    "scrolled": true
   },
   "outputs": [
    {
     "name": "stdout",
     "output_type": "stream",
     "text": [
      "[96.68769616 96.70670412 96.74207681 96.69284662 96.8316741  96.8844842\n",
      " 96.62785348 96.73574506 96.82406478 96.81545966]\n"
     ]
    }
   ],
   "source": [
    "model=DecisionTreeRegressor(max_depth=3)\n",
    "rs = ShuffleSplit(n_splits=10, test_size=.30, random_state=0)\n",
    "from sklearn.model_selection import cross_val_score\n",
    "results=cross_val_score(model,X,y,cv=rs)*100\n",
    "print(results)"
   ]
  },
  {
   "cell_type": "markdown",
   "metadata": {},
   "source": [
    "**Giving the same accuracy for all test size. so model working well**"
   ]
  },
  {
   "cell_type": "markdown",
   "metadata": {},
   "source": [
    "### 3. Random Forest"
   ]
  },
  {
   "cell_type": "code",
   "execution_count": 101,
   "metadata": {},
   "outputs": [
    {
     "data": {
      "text/plain": [
       "RandomForestRegressor(bootstrap=True, ccp_alpha=0.0, criterion='mse',\n",
       "                      max_depth=None, max_features='auto', max_leaf_nodes=None,\n",
       "                      max_samples=None, min_impurity_decrease=0.0,\n",
       "                      min_impurity_split=None, min_samples_leaf=1,\n",
       "                      min_samples_split=2, min_weight_fraction_leaf=0.0,\n",
       "                      n_estimators=3, n_jobs=None, oob_score=False,\n",
       "                      random_state=0, verbose=0, warm_start=False)"
      ]
     },
     "execution_count": 101,
     "metadata": {},
     "output_type": "execute_result"
    }
   ],
   "source": [
    "from sklearn.ensemble import RandomForestRegressor\n",
    "RF = RandomForestRegressor(n_estimators = 3, random_state = 0) # taking n_estimators as 3\n",
    "RF.fit(X_train,y_train)"
   ]
  },
  {
   "cell_type": "code",
   "execution_count": 102,
   "metadata": {
    "scrolled": true
   },
   "outputs": [
    {
     "name": "stdout",
     "output_type": "stream",
     "text": [
      "score of the train model 0.9998202801335354\n",
      "score of the test model 0.9997094530548736\n"
     ]
    }
   ],
   "source": [
    "print(f'score of the train model {RF.score(X_train,y_train)}')\n",
    "print(f'score of the test model {RF.score(X_test,y_test)}')"
   ]
  },
  {
   "cell_type": "markdown",
   "metadata": {},
   "source": [
    "**Accuracy of the Random Forest is 99%**"
   ]
  },
  {
   "cell_type": "code",
   "execution_count": 103,
   "metadata": {
    "scrolled": true
   },
   "outputs": [
    {
     "name": "stdout",
     "output_type": "stream",
     "text": [
      "n_estimator = 4\n",
      "Training Score=0.9984817565137724\n",
      "Testing Score=0.9973033760979292\n",
      "n_estimator = 5\n",
      "Training Score=0.9999884476260659\n",
      "Testing Score=0.9996840089095315\n",
      "n_estimator = 6\n",
      "Training Score=0.9999881025421129\n",
      "Testing Score=0.9998376580682111\n",
      "n_estimator = 7\n",
      "Training Score=0.9983718538939305\n",
      "Testing Score=0.9971727039862551\n",
      "n_estimator = 8\n",
      "Training Score=0.9999473121917495\n",
      "Testing Score=0.9996709153095497\n",
      "n_estimator = 9\n",
      "Training Score=0.9999656137202848\n",
      "Testing Score=0.9998235126628979\n"
     ]
    }
   ],
   "source": [
    "# checking n_estimator betweein 4 to 10\n",
    "for i in range(4,10):\n",
    "    RF=RandomForestRegressor(n_estimators=3)\n",
    "    RF.fit(X_train,y_train)\n",
    "    print(f'n_estimator = {i}')\n",
    "    print(f'Training Score={RF.score(X_train,y_train)}')\n",
    "    print(f'Testing Score={RF.score(X_test,y_test)}')"
   ]
  },
  {
   "cell_type": "markdown",
   "metadata": {},
   "source": [
    "**Accuracy is same for all n-estimators**"
   ]
  },
  {
   "cell_type": "markdown",
   "metadata": {},
   "source": [
    "### Cross-validation of Random Forest model"
   ]
  },
  {
   "cell_type": "code",
   "execution_count": 104,
   "metadata": {},
   "outputs": [
    {
     "name": "stdout",
     "output_type": "stream",
     "text": [
      "[99.96908645 99.9338025  99.9879953  99.96244458 99.99622961 99.97276568\n",
      " 99.97827324 99.98566808 99.99252406 99.9835883 ]\n"
     ]
    }
   ],
   "source": [
    "model=RandomForestRegressor(n_estimators=3)\n",
    "rs = ShuffleSplit(n_splits=10, test_size=.30, random_state=0)\n",
    "from sklearn.model_selection import cross_val_score\n",
    "results=cross_val_score(model,X,y,cv=rs)*100\n",
    "print(results)"
   ]
  },
  {
   "cell_type": "markdown",
   "metadata": {},
   "source": [
    "**Model is performing good**"
   ]
  },
  {
   "cell_type": "markdown",
   "metadata": {},
   "source": [
    "## Summary "
   ]
  },
  {
   "cell_type": "markdown",
   "metadata": {},
   "source": [
    "**1. Linear model accuracy is 99% but there are chances of overfitting**\n",
    "<br>**2. Decision tree gives accuracy of 96% for maxdepth of 3**\n",
    "<br>**3. Random forest have highest accuracy of 99%**\n",
    "<br>**so Random Forest is good choice for  model predicting the salary**\n",
    "\n"
   ]
  }
 ],
 "metadata": {
  "kernelspec": {
   "display_name": "Python 3",
   "language": "python",
   "name": "python3"
  },
  "language_info": {
   "codemirror_mode": {
    "name": "ipython",
    "version": 3
   },
   "file_extension": ".py",
   "mimetype": "text/x-python",
   "name": "python",
   "nbconvert_exporter": "python",
   "pygments_lexer": "ipython3",
   "version": "3.7.6"
  }
 },
 "nbformat": 4,
 "nbformat_minor": 4
}
